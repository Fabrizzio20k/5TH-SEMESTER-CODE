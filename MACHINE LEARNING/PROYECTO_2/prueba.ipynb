{
 "cells": [
  {
   "cell_type": "code",
   "execution_count": 18,
   "metadata": {},
   "outputs": [
    {
     "name": "stdout",
     "output_type": "stream",
     "text": [
      "(204, 1, 18530)\n",
      "(204,)\n",
      "            0         1         2  ...     18528     18529  Target\n",
      "0   -0.005859 -0.011414 -0.010773  ... -0.021637 -0.018860       0\n",
      "1    0.002380  0.005127  0.005737  ... -0.005981 -0.007660       1\n",
      "2    0.058075  0.122040  0.108307  ... -0.014130 -0.018250       0\n",
      "3   -0.007385 -0.011932 -0.004700  ... -0.030273 -0.039368       0\n",
      "4   -0.000458 -0.001099  0.003723  ...  0.004242  0.003235       0\n",
      "..        ...       ...       ...  ...       ...       ...     ...\n",
      "199  0.008179  0.015106  0.013245  ...  0.025818  0.018951       0\n",
      "200  0.007660  0.011230  0.004974  ...  0.023987  0.029541       0\n",
      "201  0.015167  0.031799  0.026978  ... -0.000824  0.000305       0\n",
      "202  0.002533  0.005219  0.003571  ... -0.003357 -0.003479       0\n",
      "203 -0.002991 -0.004120  0.000366  ... -0.009552 -0.019318       1\n",
      "\n",
      "[204 rows x 18531 columns]\n",
      "          id   time     value\n",
      "0          0      0 -0.005859\n",
      "1          0      1 -0.011414\n",
      "2          0      2 -0.010773\n",
      "3          0      3 -0.010559\n",
      "4          0      4 -0.008850\n",
      "...      ...    ...       ...\n",
      "3780115  203  18525  0.015320\n",
      "3780116  203  18526  0.007477\n",
      "3780117  203  18527 -0.000061\n",
      "3780118  203  18528 -0.009552\n",
      "3780119  203  18529 -0.019318\n",
      "\n",
      "[3780120 rows x 3 columns]\n",
      "Target\n",
      "0    149\n",
      "1     55\n",
      "Name: count, dtype: int64\n"
     ]
    }
   ],
   "source": [
    "import pandas as pd\n",
    "import h5py\n",
    "import matplotlib.pyplot as plt\n",
    "import numpy as np\n",
    "from tsfresh import extract_features\n",
    "from tsfresh.feature_extraction import EfficientFCParameters\n",
    "\n",
    "with h5py.File('train.h5', 'r') as f:\n",
    "    X = f['x'][:]\n",
    "    Y = f['y'][:]\n",
    "\n",
    "print(X.shape)\n",
    "print(Y.shape)\n",
    "\n",
    "# Convierte X a un DataFrame de pandas\n",
    "df_X = pd.DataFrame(X.reshape(-1, X.shape[-1]))\n",
    "\n",
    "# Convierte Y a un DataFrame de pandas\n",
    "df_Y = pd.DataFrame(Y, columns=['Target'])\n",
    "\n",
    "# Une los dos DataFrames\n",
    "df = pd.concat([df_X, df_Y], axis=1)\n",
    "\n",
    "print(df)\n",
    "\n",
    "num_trials = 18530\n",
    "\n",
    "df_tsfresh = pd.DataFrame({\n",
    "    'id': np.repeat(df.index, num_trials),\n",
    "    'time': np.tile(np.arange(num_trials), len(df)),\n",
    "    'value': df.drop(columns='Target').values.flatten()\n",
    "})\n",
    "print(df_tsfresh)\n",
    "\n",
    "#print quantity of zeros and ones\n",
    "print(df_Y['Target'].value_counts())"
   ]
  },
  {
   "cell_type": "code",
   "execution_count": 5,
   "metadata": {},
   "outputs": [
    {
     "name": "stderr",
     "output_type": "stream",
     "text": [
      "Feature Extraction: 100%|██████████| 102/102 [02:15<00:00,  1.33s/it]\n"
     ]
    },
    {
     "name": "stdout",
     "output_type": "stream",
     "text": [
      "     value__variance_larger_than_standard_deviation  ...  value__mean_n_absolute_max__number_of_maxima_7\n",
      "0                                               0.0  ...                                        0.232910\n",
      "1                                               0.0  ...                                        0.266963\n",
      "2                                               0.0  ...                                        0.207986\n",
      "3                                               0.0  ...                                        0.154306\n",
      "4                                               0.0  ...                                        0.336108\n",
      "..                                              ...  ...                                             ...\n",
      "199                                             0.0  ...                                        0.096885\n",
      "200                                             0.0  ...                                        0.368783\n",
      "201                                             0.0  ...                                        0.261121\n",
      "202                                             0.0  ...                                        0.061545\n",
      "203                                             0.0  ...                                        0.518751\n",
      "\n",
      "[204 rows x 777 columns]\n"
     ]
    }
   ],
   "source": [
    "\n",
    "features = extract_features(df_tsfresh, column_id='id', column_sort='time', n_jobs=24, default_fc_parameters=EfficientFCParameters())\n",
    "print(features)"
   ]
  },
  {
   "cell_type": "code",
   "execution_count": 24,
   "metadata": {},
   "outputs": [
    {
     "name": "stdout",
     "output_type": "stream",
     "text": [
      "              precision    recall  f1-score   support\n",
      "\n",
      "           0       0.81      0.83      0.82        46\n",
      "           1       0.47      0.44      0.45        16\n",
      "\n",
      "    accuracy                           0.73        62\n",
      "   macro avg       0.64      0.63      0.63        62\n",
      "weighted avg       0.72      0.73      0.72        62\n",
      "\n",
      "0.7258064516129032\n"
     ]
    },
    {
     "data": {
      "image/png": "[encoded data removed]",
      "text/plain": [
       "<Figure size 640x480 with 2 Axes>"
      ]
     },
     "metadata": {},
     "output_type": "display_data"
    }
   ],
   "source": [
    "from sklearn.tree import DecisionTreeClassifier\n",
    "from sklearn.metrics import classification_report\n",
    "from sklearn.model_selection import train_test_split\n",
    "\n",
    "# Asume que 'features' es tu DataFrame con las características extraídas y 'df_Y' es tu DataFrame con las etiquetas\n",
    "X = features\n",
    "y = df_Y['Target']\n",
    "\n",
    "# Divide tus datos en conjuntos de entrenamiento y prueba\n",
    "X_train, X_test, y_train, y_test = train_test_split(X, y, test_size=0.3, random_state=42)\n",
    "X_train = X_train.fillna(0)\n",
    "X_test = X_test.fillna(0)\n",
    "\n",
    "clf = DecisionTreeClassifier()\n",
    "\n",
    "# Entrena el clasificador\n",
    "clf.fit(X_train, y_train)\n",
    "\n",
    "# Haz predicciones en el conjunto de prueba\n",
    "y_pred = clf.predict(X_test)\n",
    "\n",
    "# Imprime un informe de clasificación\n",
    "print(classification_report(y_test, y_pred))\n",
    "\n",
    "#get accuracy\n",
    "from sklearn.metrics import accuracy_score\n",
    "accuracy = accuracy_score(y_test, y_pred)\n",
    "print(accuracy)\n",
    "\n",
    "#create confusion matrix\n",
    "from sklearn.metrics import confusion_matrix\n",
    "\n",
    "#plot confusion matrix\n",
    "import seaborn as sns\n",
    "sns.heatmap(confusion_matrix(y_test, y_pred), annot=True, fmt='d', cmap='Blues')\n",
    "plt.xlabel('Predicted')\n",
    "plt.ylabel('Actual')\n",
    "plt.show()\n"
   ]
  }
 ],
 "metadata": {
  "kernelspec": {
   "display_name": "venv",
   "language": "python",
   "name": "python3"
  },
  "language_info": {
   "codemirror_mode": {
    "name": "ipython",
    "version": 3
   },
   "file_extension": ".py",
   "mimetype": "text/x-python",
   "name": "python",
   "nbconvert_exporter": "python",
   "pygments_lexer": "ipython3",
   "version": "3.12.0"
  }
 },
 "nbformat": 4,
 "nbformat_minor": 2
}
