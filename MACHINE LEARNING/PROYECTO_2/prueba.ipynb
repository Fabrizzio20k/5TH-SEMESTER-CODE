{
 "cells": [
  {
   "cell_type": "markdown",
   "metadata": {},
   "source": [
    "Leer primero los archivos h5 de train y test y crear un df con pandas. Luego, separamos el df en train y test."
   ]
  },
  {
   "cell_type": "code",
   "execution_count": 4,
   "metadata": {},
   "outputs": [
    {
     "name": "stdout",
     "output_type": "stream",
     "text": [
      "(204, 1, 18530)\n",
      "(204,)\n"
     ]
    }
   ],
   "source": [
    "import pandas as pd\n",
    "import h5py\n",
    "import matplotlib.pyplot as plt\n",
    "import numpy as np\n",
    "from tsfresh import extract_features\n",
    "from tsfresh.feature_extraction import EfficientFCParameters\n",
    "from tsfresh.utilities.distribution import MultiprocessingDistributor\n",
    "import os\n",
    "\n",
    "with h5py.File('train.h5', 'r') as f:\n",
    "    X = f['x'][:]\n",
    "    Y = f['y'][:]\n",
    "\n",
    "print(X.shape)\n",
    "print(Y.shape)\n",
    "\n",
    "# Convierte X a un DataFrame de pandas\n",
    "df_X = pd.DataFrame(X.reshape(-1, X.shape[-1]))\n",
    "\n",
    "# Convierte Y a un DataFrame de pandas\n",
    "df_Y = pd.DataFrame(Y, columns=['Target'])\n",
    "\n",
    "# Une los dos DataFrames\n",
    "df = pd.concat([df_X, df_Y], axis=1)\n",
    "\n",
    "# print(df)\n",
    "\n",
    "num_trials = 18530\n",
    "\n",
    "df_tsfresh = pd.DataFrame({\n",
    "    'id': np.repeat(df.index, num_trials),\n",
    "    'time': np.tile(np.arange(num_trials), len(df)),\n",
    "    'value': df.drop(columns='Target').values.flatten()\n",
    "})\n",
    "\n",
    "\n",
    "#use test.h5 and predict the target and save it in a file\n",
    "with h5py.File('test.h5', 'r') as f:\n",
    "    XX = f['x'][:]\n",
    "\n",
    "# Convierte X a un DataFrame de pandas\n",
    "df_X_test = pd.DataFrame(XX.reshape(-1, X.shape[-1]))\n",
    "\n",
    "df_tsfresh_test = pd.DataFrame({\n",
    "    'id': np.repeat(df_X_test.index, num_trials),\n",
    "    'time': np.tile(np.arange(num_trials), len(df_X_test)),\n",
    "    'value': df_X_test.values.flatten()\n",
    "})"
   ]
  },
  {
   "cell_type": "markdown",
   "metadata": {},
   "source": [
    "Luego extraemos las features de los archivos h5 con tsfresh"
   ]
  },
  {
   "cell_type": "code",
   "execution_count": 110,
   "metadata": {},
   "outputs": [
    {
     "name": "stdout",
     "output_type": "stream",
     "text": [
      "Headers are the same\n"
     ]
    }
   ],
   "source": [
    "Distributor1 = MultiprocessingDistributor(n_workers=os.cpu_count(), disable_progressbar=False, progressbar_title=\"Feature Extraction\")\n",
    "Distributor2 = MultiprocessingDistributor(n_workers=os.cpu_count(), disable_progressbar=False, progressbar_title=\"Feature Extraction\")\n",
    "\n",
    "features = extract_features(df_tsfresh, column_id='id', column_sort='time', distributor=Distributor1, default_fc_parameters=EfficientFCParameters())\n",
    "features_test = extract_features(df_tsfresh_test, column_id='id', column_sort='time', distributor=Distributor2, default_fc_parameters=EfficientFCParameters())\n"
   ]
  },
  {
   "cell_type": "markdown",
   "metadata": {},
   "source": [
    "Después, separamos las features en train y test y las guardamos en archivos csv."
   ]
  },
  {
   "cell_type": "code",
   "execution_count": 111,
   "metadata": {},
   "outputs": [],
   "source": [
    "#save features in a file.csv\n",
    "features.to_csv(\"features_train.csv\", index=False)\n",
    "\n",
    "#save features_test in a file.csv\n",
    "features_test.to_csv(\"features_test.csv\", index=False)\n",
    "\n",
    "#save y in a file.csv\n",
    "df_Y.to_csv(\"y_train.csv\", index=False)"
   ]
  },
  {
   "cell_type": "markdown",
   "metadata": {},
   "source": [
    "Mas adelante, cargamos las features de train de sus csv y las dividimos en train y validation."
   ]
  },
  {
   "cell_type": "code",
   "execution_count": 15,
   "metadata": {},
   "outputs": [],
   "source": [
    "from sklearn.metrics import classification_report\n",
    "from sklearn.model_selection import train_test_split\n",
    "\n",
    "\n",
    "# Cargar los datos\n",
    "df = pd.read_csv('features_train.csv')\n",
    "y = pd.read_csv('y_train.csv')\n",
    "X = df\n",
    "y = y['Target']\n",
    "\n",
    "\n",
    "# Divide tus datos en conjuntos de entrenamiento y prueba\n",
    "X_train, X_test, y_train, y_test = train_test_split(X, y, test_size=0.3, random_state=42)\n",
    "X_train = X_train.fillna(0)\n",
    "X_test = X_test.fillna(0)\n"
   ]
  },
  {
   "cell_type": "markdown",
   "metadata": {},
   "source": [
    "Despues, elegimos algun modelo de clasificación y lo entrenamos con las features de train y validamos con las features de validation."
   ]
  },
  {
   "cell_type": "code",
   "execution_count": 29,
   "metadata": {},
   "outputs": [
    {
     "name": "stdout",
     "output_type": "stream",
     "text": [
      "              precision    recall  f1-score   support\n",
      "\n",
      "           0       0.72      0.78      0.75        46\n",
      "           1       0.17      0.12      0.14        16\n",
      "\n",
      "    accuracy                           0.61        62\n",
      "   macro avg       0.44      0.45      0.45        62\n",
      "weighted avg       0.58      0.61      0.59        62\n",
      "\n",
      "0.6129032258064516\n"
     ]
    },
    {
     "name": "stderr",
     "output_type": "stream",
     "text": [
      "c:\\Users\\vilch\\OneDrive\\Escritorio\\5TH SEMESTER CODE\\MACHINE LEARNING\\venv\\Lib\\site-packages\\sklearn\\linear_model\\_logistic.py:469: ConvergenceWarning: lbfgs failed to converge (status=1):\n",
      "STOP: TOTAL NO. of ITERATIONS REACHED LIMIT.\n",
      "\n",
      "Increase the number of iterations (max_iter) or scale the data as shown in:\n",
      "    https://scikit-learn.org/stable/modules/preprocessing.html\n",
      "Please also refer to the documentation for alternative solver options:\n",
      "    https://scikit-learn.org/stable/modules/linear_model.html#logistic-regression\n",
      "  n_iter_i = _check_optimize_result(\n"
     ]
    },
    {
     "data": {
      "image/png": "[encoded data removed]",
      "text/plain": [
       "<Figure size 640x480 with 2 Axes>"
      ]
     },
     "metadata": {},
     "output_type": "display_data"
    }
   ],
   "source": [
    "#import logistic regression\n",
    "\n",
    "from sklearn.linear_model import LogisticRegression\n",
    "\n",
    "clf = LogisticRegression(max_iter=10000)\n",
    "\n",
    "# Entrena el clasificador\n",
    "clf.fit(X_train, y_train)\n",
    "\n",
    "# Haz predicciones en el conjunto de prueba\n",
    "y_pred = clf.predict(X_test)\n",
    "\n",
    "# Muestra el reporte de clasificación\n",
    "print(classification_report(y_test, y_pred))\n",
    "\n",
    "#get accuracy\n",
    "from sklearn.metrics import accuracy_score\n",
    "accuracy = accuracy_score(y_test, y_pred)\n",
    "print(accuracy)\n",
    "\n",
    "#create confusion matrix\n",
    "from sklearn.metrics import confusion_matrix\n",
    "\n",
    "#plot confusion matrix\n",
    "import seaborn as sns\n",
    "sns.heatmap(confusion_matrix(y_test, y_pred), annot=True, fmt='d', cmap='Blues')\n",
    "plt.xlabel('Predicted')\n",
    "plt.ylabel('Actual')\n",
    "plt.show()\n"
   ]
  },
  {
   "cell_type": "markdown",
   "metadata": {},
   "source": [
    "Finalmente predecimos las features de test y las guardamos en un archivo csv."
   ]
  },
  {
   "cell_type": "code",
   "execution_count": 11,
   "metadata": {},
   "outputs": [],
   "source": [
    "X_test = pd.read_csv('features_test.csv')\n",
    "X_test = X_test.fillna(0)\n",
    "\n",
    "# X_test = pca.transform(X_test)\n",
    "\n",
    "# Haz predicciones en el conjunto de prueba\n",
    "y_pred = clf.predict(X_test)\n",
    "\n",
    "\n",
    "#save y_pred in a file.csv with id and result. id starts from 1\n",
    "df_y_pred = pd.DataFrame(y_pred, columns=['result'])\n",
    "df_y_pred.index += 1\n",
    "df_y_pred.index.name = 'ID'\n",
    "df_y_pred.to_csv(\"y_pred.csv\")"
   ]
  }
 ],
 "metadata": {
  "kernelspec": {
   "display_name": "venv",
   "language": "python",
   "name": "python3"
  },
  "language_info": {
   "codemirror_mode": {
    "name": "ipython",
    "version": 3
   },
   "file_extension": ".py",
   "mimetype": "text/x-python",
   "name": "python",
   "nbconvert_exporter": "python",
   "pygments_lexer": "ipython3",
   "version": "3.12.0"
  }
 },
 "nbformat": 4,
 "nbformat_minor": 2
}
