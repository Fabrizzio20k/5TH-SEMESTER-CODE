{
 "cells": [
  {
   "cell_type": "code",
   "execution_count": 20,
   "metadata": {},
   "outputs": [],
   "source": [
    "#edit new_train, new_val, new_test.csv in field youtube_id to add test_subset/ to the beginning of the youtube_id\n",
    "import pandas as pd\n",
    "\n",
    "\n",
    "dt = pd.read_csv('new_train.csv')\n",
    "dt['youtube_id'] = 'test_subset/' + dt['youtube_id']\n",
    "dt.to_csv('new_train.csv', index=False)\n",
    "\n",
    "dt = pd.read_csv('new_val.csv')\n",
    "dt['youtube_id'] = 'val_subset/' + dt['youtube_id']\n",
    "dt.to_csv('new_val.csv', index=False)\n",
    "\n",
    "dt = pd.read_csv('new_test.csv')\n",
    "dt['youtube_id'] = 'test_subset/' + dt['youtube_id']\n",
    "dt.to_csv('new_test.csv', index=False)"
   ]
  }
 ],
 "metadata": {
  "kernelspec": {
   "display_name": "venv",
   "language": "python",
   "name": "python3"
  },
  "language_info": {
   "codemirror_mode": {
    "name": "ipython",
    "version": 3
   },
   "file_extension": ".py",
   "mimetype": "text/x-python",
   "name": "python",
   "nbconvert_exporter": "python",
   "pygments_lexer": "ipython3",
   "version": "3.12.0"
  }
 },
 "nbformat": 4,
 "nbformat_minor": 2
}
