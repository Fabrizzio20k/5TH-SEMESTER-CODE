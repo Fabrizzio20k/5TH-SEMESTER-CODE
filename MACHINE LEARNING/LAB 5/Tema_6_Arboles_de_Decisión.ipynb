{
  "cells": [
    {
      "cell_type": "markdown",
      "metadata": {
        "id": "9lQct68MlKo0"
      },
      "source": [
        " # Tema 6: Decision Tree\n",
        " ----\n",
        "  \n",
        "University: UTEC \\\\\n",
        "   Course: Machine Learning \\\\\n",
        "   Professor: Cristian López Del Alamo \\\\\n",
        "   Topic: Decision Trees \\\\\n",
        "  \n",
        "\n",
        "  ----\n",
        "\n",
        "  Names and Surnames of Members: (Do not forget to enter the % participation)\n",
        "  - Member 1:\n",
        "  - Member 2:\n",
        "  - Member 3:\n",
        "  - Member 4:\n",
        "  \n",
        "\n"
      ]
    },
    {
      "cell_type": "markdown",
      "metadata": {
        "id": "G19GO8Aflmlv"
      },
      "source": [
        "For this exercise, you will need to build your own decision tree.\n",
        "\n",
        "- Please note that this is a recursive algorithm.\n",
        "- The base case occurs when all the elements of a node have the same labels, that is, it is a terminal node. Then the label of that node takes the value of the common label.\n",
        "- In the case that it is not a terminal node, the algorithm must search for one of the\n",
        "feactures by which to divide and for this use Information Gain (Entropy or Gini).\n",
        "- Split the dataset using the feature that generates a greater information gain in the parent or a lower GINI and recursively call the create_DT function.\n",
        "\n",
        "You will use the iris database, with 4 features and 3 classes.\n",
        "Randomly take 80% of the data to create the tree and the rest to\n",
        "test the accuracy of the prediction.\n",
        "Finally, it shows the **accuracy** of its model using a confusion matrix.\n",
        "\n",
        "----\n",
        "\n",
        "Descarge el [Dataset](https://gist.github.com/Thanatoz-1/9e7fdfb8189f0cdf5d73a494e4a6392a)\n",
        "\n",
        "----\n",
        "\n",
        "\n",
        "Trabaje en equipo:\n",
        "\n",
        "[Link de apoyo 1](https://towardsdatascience.com/the-simple-math-behind-3-decision-tree-splitting-criterions-85d4de2a75fe)\n",
        "\n",
        "[Link de apoyo 2](https://www.quantstart.com/articles/Beginners-Guide-to-Decision-Trees-for-Supervised-Machine-Learning/)\n",
        "\n",
        "----\n",
        "## In the following code, your group can add functions, remove functions, or modify the function parameters.\n",
        "---"
      ]
    },
    {
      "cell_type": "code",
      "execution_count": 1,
      "metadata": {
        "id": "o74EDY9g86G9"
      },
      "outputs": [
        {
          "name": "stdout",
          "output_type": "stream",
          "text": [
            "   sepal_length  sepal_width  petal_length  petal_width species\n",
            "0           5.1          3.5           1.4          0.2  setosa\n",
            "1           4.9          3.0           1.4          0.2  setosa\n",
            "2           4.7          3.2           1.3          0.2  setosa\n",
            "3           4.6          3.1           1.5          0.2  setosa\n",
            "4           5.0          3.6           1.4          0.2  setosa\n"
          ]
        }
      ],
      "source": [
        "import seaborn as sns\n",
        "import numpy as np\n",
        "import pandas as pd\n",
        "\n",
        "iris = sns.load_dataset('iris')\n",
        "print(iris.head())\n",
        "\n",
        "\n",
        "class Nodo:\n",
        " #Define what your data members will be\n",
        "  def __init__(self, X, Y, index):\n",
        "    self.m_X = X\n",
        "    self.m_Y = Y\n",
        "    self.m_Index = index\n",
        "    self.m_HijoIzquierdo = None\n",
        "    self.m_HijoDerecho = None\n",
        "    self.m_Feature = None\n",
        "    self.m_Valor = None\n",
        "\n",
        "  def IsTerminal(self,Y):\n",
        "    # return true if this node has the same labels in Y\n",
        "    return len(np.unique(Y)) == 1\n",
        "\n",
        "\n",
        "  def BestSplit(self,X,Y):\n",
        "    H = self.Entropy(Y)\n",
        "    for i in range(X.shape[1]):\n",
        "      feature_values = np.unique(X[:, i])\n",
        "      for value in feature_values:\n",
        "        X_izquierdo = X[X[:, i] <= value]\n",
        "        Y_izquierdo = Y[X[:, i] <= value]\n",
        "        H_izquierdo = self.Entropy(Y_izquierdo)\n",
        "\n",
        "        X_derecho = X[X[:, i] > value]\n",
        "        Y_derecho = Y[X[:, i] > value]\n",
        "        H_derecho = self.Entropy(Y_derecho)\n",
        "        H_condicional = (len(Y_izquierdo) / len(Y)) * H_izquierdo + (len(Y_derecho) / len(Y)) * H_derecho\n",
        "        if H - H_condicional > self.m_Hoja:\n",
        "          self.m_Hoja = H - H_condicional\n",
        "          self.m_Feature = i\n",
        "          self.m_Valor = value\n",
        "\n",
        "    return self.m_Feature, self.m_Valor\n",
        "\n",
        "  def Entropy(self,Y):\n",
        "    p = np.unique(Y, return_counts=True)[1] / len(Y)\n",
        "    H = 0\n",
        "    for pi in p:\n",
        "      if pi != 0:\n",
        "        H -= pi * np.log2(pi)\n",
        "    return H\n",
        "\n",
        "  def Gini(self,Y):\n",
        "    p = np.unique(Y, return_counts=True)[1] / len(Y)\n",
        "    return 1 - np.sum(p ** 2)\n",
        "\n",
        "\n",
        "class DT:\n",
        " # Defina cuales será sus mimbros datos\n",
        "    def __init__(self, X, Y, index):\n",
        "        self.m_X = X\n",
        "        self.m_Y = Y\n",
        "        self.m_Index = index\n",
        "        self.m_Root = None\n",
        "\n",
        "    def create_DT(self):\n",
        "        self.m_Root = Nodo(self.m_X, self.m_Y, self.m_Index)\n",
        "        self.create_DT_recursivo(self.m_Root)\n",
        "\n",
        "    def create_DT_recursivo(self, nodo: Nodo):\n",
        "        if nodo.IsTerminal(nodo.m_Y):\n",
        "            return\n",
        "        nodo.m_Feature, nodo.m_Valor = nodo.BestSplit(nodo.m_X, nodo.m_Y)\n",
        "        nodo.m_HijoIzquierdo = Nodo(nodo.m_X[nodo.m_X[:, nodo.m_Feature] <= nodo.m_Valor],\n",
        "                                    nodo.m_Y[nodo.m_X[:, nodo.m_Feature] <= nodo.m_Valor],\n",
        "                                    nodo.m_Index)\n",
        "        nodo.m_HijoDerecho = Nodo(nodo.m_X[nodo.m_X[:, nodo.m_Feature] > nodo.m_Valor],\n",
        "                                  nodo.m_Y[nodo.m_X[:, nodo.m_Feature] > nodo.m_Valor],\n",
        "                                  nodo.m_Index)\n",
        "        self.create_DT_recursivo(nodo.m_HijoIzquierdo)\n",
        "        self.create_DT_recursivo(nodo.m_HijoDerecho)\n",
        "\n",
        "    def Find_Best_Split(self):\n",
        "        self.m_Root.BestSplit(self.m_X, self.m_Y)\n",
        "\n",
        "    def predict(self, X):\n",
        "        return self.predict_recursivo(X, self.m_Root)\n",
        "    \n",
        "    def predict_recursivo(self, X, nodo: Nodo):\n",
        "        if nodo.IsTerminal(nodo.m_Y):\n",
        "            return np.argmax(np.bincount(nodo.m_Y))\n",
        "        if X[nodo.m_Feature] <= nodo.m_Valor:\n",
        "            return self.predict_recursivo(X, nodo.m_HijoIzquierdo)\n",
        "        else:\n",
        "            return self.predict_recursivo(X, nodo.m_HijoDerecho)\n",
        "\n",
        "\n",
        "\n",
        "\n",
        "\n",
        "\n",
        "\n",
        "\n"
      ]
    },
    {
      "cell_type": "markdown",
      "metadata": {
        "id": "A1mOS4oMjuhH"
      },
      "source": [
        "Colocar datos de su equipo y su colab aquí: [link ](https://docs.google.com/spreadsheets/d/1RhFmHVXiWbHd4opNn1IX158vTqFFZlADMma0WJ0QA3s/edit?usp=sharing)\n",
        "\n",
        "[Lectura Extra ](https://www.cs.toronto.edu/~axgao/cs486686_f21/lecture_notes/Lecture_07_on_Decision_Trees.pdf)"
      ]
    }
  ],
  "metadata": {
    "colab": {
      "provenance": []
    },
    "kernelspec": {
      "display_name": "Python 3",
      "name": "python3"
    },
    "language_info": {
      "codemirror_mode": {
        "name": "ipython",
        "version": 3
      },
      "file_extension": ".py",
      "mimetype": "text/x-python",
      "name": "python",
      "nbconvert_exporter": "python",
      "pygments_lexer": "ipython3",
      "version": "3.11.4"
    }
  },
  "nbformat": 4,
  "nbformat_minor": 0
}
