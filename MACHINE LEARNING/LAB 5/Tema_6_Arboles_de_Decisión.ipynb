{
  "cells": [
    {
      "cell_type": "markdown",
      "metadata": {
        "id": "9lQct68MlKo0"
      },
      "source": [
        " # Tema 6: Decision Tree\n",
        " ----\n",
        "  \n",
        "University: UTEC \\\\\n",
        "   Course: Machine Learning \\\\\n",
        "   Professor: Cristian López Del Alamo \\\\\n",
        "   Topic: Decision Trees \\\\\n",
        "  \n",
        "\n",
        "  ----\n",
        "\n",
        "  Names and Surnames of Members: (Do not forget to enter the % participation)\n",
        "  - Member 1:\n",
        "  - Member 2:\n",
        "  - Member 3:\n",
        "  - Member 4:\n",
        "  \n",
        "\n"
      ]
    },
    {
      "cell_type": "markdown",
      "metadata": {
        "id": "G19GO8Aflmlv"
      },
      "source": [
        "For this exercise, you will need to build your own decision tree.\n",
        "\n",
        "- Please note that this is a recursive algorithm.\n",
        "- The base case occurs when all the elements of a node have the same labels, that is, it is a terminal node. Then the label of that node takes the value of the common label.\n",
        "- In the case that it is not a terminal node, the algorithm must search for one of the\n",
        "feactures by which to divide and for this use Information Gain (Entropy or Gini).\n",
        "- Split the dataset using the feature that generates a greater information gain in the parent or a lower GINI and recursively call the create_DT function.\n",
        "\n",
        "You will use the iris database, with 4 features and 3 classes.\n",
        "Randomly take 80% of the data to create the tree and the rest to\n",
        "test the accuracy of the prediction.\n",
        "Finally, it shows the **accuracy** of its model using a confusion matrix.\n",
        "\n",
        "----\n",
        "\n",
        "Descarge el [Dataset](https://gist.github.com/Thanatoz-1/9e7fdfb8189f0cdf5d73a494e4a6392a)\n",
        "\n",
        "----\n",
        "\n",
        "\n",
        "Trabaje en equipo:\n",
        "\n",
        "[Link de apoyo 1](https://towardsdatascience.com/the-simple-math-behind-3-decision-tree-splitting-criterions-85d4de2a75fe)\n",
        "\n",
        "[Link de apoyo 2](https://www.quantstart.com/articles/Beginners-Guide-to-Decision-Trees-for-Supervised-Machine-Learning/)\n",
        "\n",
        "----\n",
        "## In the following code, your group can add functions, remove functions, or modify the function parameters.\n",
        "---"
      ]
    },
    {
      "cell_type": "code",
      "execution_count": 11,
      "metadata": {
        "id": "o74EDY9g86G9"
      },
      "outputs": [
        {
          "name": "stdout",
          "output_type": "stream",
          "text": [
            "   sepal_length  sepal_width  petal_length  petal_width species\n",
            "0           5.1          3.5           1.4          0.2  setosa\n",
            "1           4.9          3.0           1.4          0.2  setosa\n",
            "2           4.7          3.2           1.3          0.2  setosa\n",
            "3           4.6          3.1           1.5          0.2  setosa\n",
            "4           5.0          3.6           1.4          0.2  setosa\n"
          ]
        }
      ],
      "source": [
        "import seaborn as sns\n",
        "import numpy as np\n",
        "import pandas as pd\n",
        "\n",
        "iris = sns.load_dataset('iris')\n",
        "print(iris.head())\n",
        "\n",
        "\n",
        "class Nodo:\n",
        " #Define what your data members will be\n",
        "  def __init__(self, X, Y, index):\n",
        "    self.m_X = X\n",
        "    self.m_Y = Y\n",
        "    self.m_Index = index\n",
        "    self.m_HijoIzquierdo = None\n",
        "    self.m_HijoDerecho = None\n",
        "    self.m_Feature = None\n",
        "    self.m_Valor = None\n",
        "\n",
        "  def IsTerminal(self,Y):\n",
        "    # return true if this node has the same labels in Y\n",
        "    return len(np.unique(Y)) == 1\n",
        "\n",
        "\n",
        "  def BestSplit(self,X,Y):\n",
        "    H = self.Entropy(Y)\n",
        "    for i in range(X.shape[1]):\n",
        "      feature_values = np.unique(X[:, i])\n",
        "      for value in feature_values:\n",
        "        X_izquierdo = X[X[:, i] <= value]\n",
        "        Y_izquierdo = Y[X[:, i] <= value]\n",
        "        H_izquierdo = self.Entropy(Y_izquierdo)\n",
        "\n",
        "        X_derecho = X[X[:, i] > value]\n",
        "        Y_derecho = Y[X[:, i] > value]\n",
        "        H_derecho = self.Entropy(Y_derecho)\n",
        "        H_condicional = (len(Y_izquierdo) / len(Y)) * H_izquierdo + (len(Y_derecho) / len(Y)) * H_derecho\n",
        "        if H_condicional < H:\n",
        "          self.m_Feature = i\n",
        "          self.m_Valor = value\n",
        "          H = H_condicional\n",
        "\n",
        "    return self.m_Feature, self.m_Valor\n",
        "\n",
        "  def Entropy(self,Y):\n",
        "    p = np.unique(Y, return_counts=True)[1] / len(Y)\n",
        "    H = 0\n",
        "    for pi in p:\n",
        "      if pi != 0:\n",
        "        H -= pi * np.log2(pi)\n",
        "    return H\n",
        "\n",
        "  def Gini(self,Y):\n",
        "    p = np.unique(Y, return_counts=True)[1] / len(Y)\n",
        "    return 1 - np.sum(p ** 2)\n",
        "\n",
        "\n",
        "class DT:\n",
        " # Defina cuales será sus mimbros datos\n",
        "    def __init__(self, X, Y, index):\n",
        "        self.m_X = X\n",
        "        self.m_Y = Y\n",
        "        self.m_Index = index\n",
        "        self.m_Root = None\n",
        "\n",
        "    def create_DT(self):\n",
        "        self.m_Root = Nodo(self.m_X, self.m_Y, self.m_Index)\n",
        "        self.create_DT_recursivo(self.m_Root)\n",
        "\n",
        "    def create_DT_recursivo(self, nodo: Nodo):\n",
        "        if nodo.IsTerminal(nodo.m_Y):\n",
        "            return\n",
        "        nodo.m_Feature, nodo.m_Valor = nodo.BestSplit(nodo.m_X, nodo.m_Y)\n",
        "        nodo.m_HijoIzquierdo = Nodo(nodo.m_X[nodo.m_X[:, nodo.m_Feature] <= nodo.m_Valor],\n",
        "                                    nodo.m_Y[nodo.m_X[:, nodo.m_Feature] <= nodo.m_Valor],\n",
        "                                    nodo.m_Index)\n",
        "        nodo.m_HijoDerecho = Nodo(nodo.m_X[nodo.m_X[:, nodo.m_Feature] > nodo.m_Valor],\n",
        "                                  nodo.m_Y[nodo.m_X[:, nodo.m_Feature] > nodo.m_Valor],\n",
        "                                  nodo.m_Index)\n",
        "        self.create_DT_recursivo(nodo.m_HijoIzquierdo)\n",
        "        self.create_DT_recursivo(nodo.m_HijoDerecho)\n",
        "\n",
        "    def Find_Best_Split(self):\n",
        "        self.m_Root.BestSplit(self.m_X, self.m_Y)\n",
        "\n",
        "    def predict(self, X):\n",
        "        return self.predict_recursivo(X, self.m_Root)\n",
        "    \n",
        "    def predict_recursivo(self, X, nodo: Nodo):\n",
        "        if nodo.IsTerminal(nodo.m_Y):\n",
        "            return np.argmax(np.bincount(nodo.m_Y))\n",
        "        if X[nodo.m_Feature] <= nodo.m_Valor:\n",
        "            return self.predict_recursivo(X, nodo.m_HijoIzquierdo)\n",
        "        else:\n",
        "            return self.predict_recursivo(X, nodo.m_HijoDerecho)"
      ]
    },
    {
      "cell_type": "code",
      "execution_count": 12,
      "metadata": {},
      "outputs": [
        {
          "ename": "TypeError",
          "evalue": "Cannot cast array data from dtype('O') to dtype('int64') according to the rule 'safe'",
          "output_type": "error",
          "traceback": [
            "\u001b[1;31m---------------------------------------------------------------------------\u001b[0m",
            "\u001b[1;31mTypeError\u001b[0m                                 Traceback (most recent call last)",
            "Cell \u001b[1;32mIn[12], line 14\u001b[0m\n\u001b[0;32m     12\u001b[0m dt \u001b[38;5;241m=\u001b[39m DT(X_train, Y_train, np\u001b[38;5;241m.\u001b[39marange(\u001b[38;5;28mlen\u001b[39m(Y_train)))\n\u001b[0;32m     13\u001b[0m dt\u001b[38;5;241m.\u001b[39mcreate_DT()\n\u001b[1;32m---> 14\u001b[0m \u001b[38;5;28mprint\u001b[39m(\u001b[43mdt\u001b[49m\u001b[38;5;241;43m.\u001b[39;49m\u001b[43mpredict\u001b[49m\u001b[43m(\u001b[49m\u001b[43mX_test\u001b[49m\u001b[43m[\u001b[49m\u001b[38;5;241;43m0\u001b[39;49m\u001b[43m]\u001b[49m\u001b[43m)\u001b[49m)\n",
            "Cell \u001b[1;32mIn[11], line 87\u001b[0m, in \u001b[0;36mDT.predict\u001b[1;34m(self, X)\u001b[0m\n\u001b[0;32m     86\u001b[0m \u001b[38;5;28;01mdef\u001b[39;00m \u001b[38;5;21mpredict\u001b[39m(\u001b[38;5;28mself\u001b[39m, X):\n\u001b[1;32m---> 87\u001b[0m     \u001b[38;5;28;01mreturn\u001b[39;00m \u001b[38;5;28;43mself\u001b[39;49m\u001b[38;5;241;43m.\u001b[39;49m\u001b[43mpredict_recursivo\u001b[49m\u001b[43m(\u001b[49m\u001b[43mX\u001b[49m\u001b[43m,\u001b[49m\u001b[43m \u001b[49m\u001b[38;5;28;43mself\u001b[39;49m\u001b[38;5;241;43m.\u001b[39;49m\u001b[43mm_Root\u001b[49m\u001b[43m)\u001b[49m\n",
            "Cell \u001b[1;32mIn[11], line 95\u001b[0m, in \u001b[0;36mDT.predict_recursivo\u001b[1;34m(self, X, nodo)\u001b[0m\n\u001b[0;32m     93\u001b[0m     \u001b[38;5;28;01mreturn\u001b[39;00m \u001b[38;5;28mself\u001b[39m\u001b[38;5;241m.\u001b[39mpredict_recursivo(X, nodo\u001b[38;5;241m.\u001b[39mm_HijoIzquierdo)\n\u001b[0;32m     94\u001b[0m \u001b[38;5;28;01melse\u001b[39;00m:\n\u001b[1;32m---> 95\u001b[0m     \u001b[38;5;28;01mreturn\u001b[39;00m \u001b[38;5;28;43mself\u001b[39;49m\u001b[38;5;241;43m.\u001b[39;49m\u001b[43mpredict_recursivo\u001b[49m\u001b[43m(\u001b[49m\u001b[43mX\u001b[49m\u001b[43m,\u001b[49m\u001b[43m \u001b[49m\u001b[43mnodo\u001b[49m\u001b[38;5;241;43m.\u001b[39;49m\u001b[43mm_HijoDerecho\u001b[49m\u001b[43m)\u001b[49m\n",
            "Cell \u001b[1;32mIn[11], line 95\u001b[0m, in \u001b[0;36mDT.predict_recursivo\u001b[1;34m(self, X, nodo)\u001b[0m\n\u001b[0;32m     93\u001b[0m     \u001b[38;5;28;01mreturn\u001b[39;00m \u001b[38;5;28mself\u001b[39m\u001b[38;5;241m.\u001b[39mpredict_recursivo(X, nodo\u001b[38;5;241m.\u001b[39mm_HijoIzquierdo)\n\u001b[0;32m     94\u001b[0m \u001b[38;5;28;01melse\u001b[39;00m:\n\u001b[1;32m---> 95\u001b[0m     \u001b[38;5;28;01mreturn\u001b[39;00m \u001b[38;5;28;43mself\u001b[39;49m\u001b[38;5;241;43m.\u001b[39;49m\u001b[43mpredict_recursivo\u001b[49m\u001b[43m(\u001b[49m\u001b[43mX\u001b[49m\u001b[43m,\u001b[49m\u001b[43m \u001b[49m\u001b[43mnodo\u001b[49m\u001b[38;5;241;43m.\u001b[39;49m\u001b[43mm_HijoDerecho\u001b[49m\u001b[43m)\u001b[49m\n",
            "Cell \u001b[1;32mIn[11], line 95\u001b[0m, in \u001b[0;36mDT.predict_recursivo\u001b[1;34m(self, X, nodo)\u001b[0m\n\u001b[0;32m     93\u001b[0m     \u001b[38;5;28;01mreturn\u001b[39;00m \u001b[38;5;28mself\u001b[39m\u001b[38;5;241m.\u001b[39mpredict_recursivo(X, nodo\u001b[38;5;241m.\u001b[39mm_HijoIzquierdo)\n\u001b[0;32m     94\u001b[0m \u001b[38;5;28;01melse\u001b[39;00m:\n\u001b[1;32m---> 95\u001b[0m     \u001b[38;5;28;01mreturn\u001b[39;00m \u001b[38;5;28;43mself\u001b[39;49m\u001b[38;5;241;43m.\u001b[39;49m\u001b[43mpredict_recursivo\u001b[49m\u001b[43m(\u001b[49m\u001b[43mX\u001b[49m\u001b[43m,\u001b[49m\u001b[43m \u001b[49m\u001b[43mnodo\u001b[49m\u001b[38;5;241;43m.\u001b[39;49m\u001b[43mm_HijoDerecho\u001b[49m\u001b[43m)\u001b[49m\n",
            "Cell \u001b[1;32mIn[11], line 91\u001b[0m, in \u001b[0;36mDT.predict_recursivo\u001b[1;34m(self, X, nodo)\u001b[0m\n\u001b[0;32m     89\u001b[0m \u001b[38;5;28;01mdef\u001b[39;00m \u001b[38;5;21mpredict_recursivo\u001b[39m(\u001b[38;5;28mself\u001b[39m, X, nodo: Nodo):\n\u001b[0;32m     90\u001b[0m     \u001b[38;5;28;01mif\u001b[39;00m nodo\u001b[38;5;241m.\u001b[39mIsTerminal(nodo\u001b[38;5;241m.\u001b[39mm_Y):\n\u001b[1;32m---> 91\u001b[0m         \u001b[38;5;28;01mreturn\u001b[39;00m np\u001b[38;5;241m.\u001b[39margmax(\u001b[43mnp\u001b[49m\u001b[38;5;241;43m.\u001b[39;49m\u001b[43mbincount\u001b[49m\u001b[43m(\u001b[49m\u001b[43mnodo\u001b[49m\u001b[38;5;241;43m.\u001b[39;49m\u001b[43mm_Y\u001b[49m\u001b[43m)\u001b[49m)\n\u001b[0;32m     92\u001b[0m     \u001b[38;5;28;01mif\u001b[39;00m X[nodo\u001b[38;5;241m.\u001b[39mm_Feature] \u001b[38;5;241m<\u001b[39m\u001b[38;5;241m=\u001b[39m nodo\u001b[38;5;241m.\u001b[39mm_Valor:\n\u001b[0;32m     93\u001b[0m         \u001b[38;5;28;01mreturn\u001b[39;00m \u001b[38;5;28mself\u001b[39m\u001b[38;5;241m.\u001b[39mpredict_recursivo(X, nodo\u001b[38;5;241m.\u001b[39mm_HijoIzquierdo)\n",
            "\u001b[1;31mTypeError\u001b[0m: Cannot cast array data from dtype('O') to dtype('int64') according to the rule 'safe'"
          ]
        }
      ],
      "source": [
        "# Test with iris_dataset.csv that is in the same folder\n",
        "iris = pd.read_csv('iris_dataset.csv')\n",
        "iris = iris.sample(frac=1).reset_index(drop=True)\n",
        "X = iris.iloc[:, :-1].values\n",
        "Y = iris.iloc[:, -1].values\n",
        "index = np.arange(len(Y))\n",
        "np.random.shuffle(index)\n",
        "X_train = X[index[:int(0.7 * len(Y))]]\n",
        "Y_train = Y[index[:int(0.7 * len(Y))]]\n",
        "X_test = X[index[int(0.7 * len(Y)):]]\n",
        "Y_test = Y[index[int(0.7 * len(Y)):]]\n",
        "dt = DT(X_train, Y_train, np.arange(len(Y_train)))\n",
        "dt.create_DT()\n",
        "print(dt.predict(X_test[0]))"
      ]
    },
    {
      "cell_type": "markdown",
      "metadata": {
        "id": "A1mOS4oMjuhH"
      },
      "source": [
        "Colocar datos de su equipo y su colab aquí: [link ](https://docs.google.com/spreadsheets/d/1RhFmHVXiWbHd4opNn1IX158vTqFFZlADMma0WJ0QA3s/edit?usp=sharing)\n",
        "\n",
        "[Lectura Extra ](https://www.cs.toronto.edu/~axgao/cs486686_f21/lecture_notes/Lecture_07_on_Decision_Trees.pdf)"
      ]
    }
  ],
  "metadata": {
    "colab": {
      "provenance": []
    },
    "kernelspec": {
      "display_name": "Python 3",
      "name": "python3"
    },
    "language_info": {
      "codemirror_mode": {
        "name": "ipython",
        "version": 3
      },
      "file_extension": ".py",
      "mimetype": "text/x-python",
      "name": "python",
      "nbconvert_exporter": "python",
      "pygments_lexer": "ipython3",
      "version": "3.12.0"
    }
  },
  "nbformat": 4,
  "nbformat_minor": 0
}
