{
  "cells": [
    {
      "cell_type": "markdown",
      "metadata": {
        "id": "9lQct68MlKo0"
      },
      "source": [
        " # Práctica  5.\n",
        " ----\n",
        "  \n",
        "  Universidad : UTEC \\\\\n",
        "  Curso       : Inteligencia Artificial \\\\\n",
        "  Profesor    : Cristian López Del Alamo \\\\\n",
        "  Tema        : Árboles de Decisión \\\\\n",
        "  \n",
        "\n",
        " ----\n",
        "\n",
        " Nombres y  Apellidos de Integrantes: (No olvide poner el % de participacion)\n",
        " - Integrante 1: Adrian Auqui (100 %)\n",
        " - Integrante 2: Miguel Yurivilca (100 %)\n",
        " - Integrante 3: Moises Chambilla (100%)\n",
        " - Integrante 4: Javier Chavarria (100 %)\n",
        "\n",
        "*Una vez concluya la práctica debe subir el link de su colab a este  [Drive]\n",
        "(https://docs.google.com/spreadsheets/d/1XCxGVmf8g29C7RZSPOqxvZHjjRZg45LHWR8mkZOfS1o/edit?usp=drivesdk)*\n"
      ]
    },
    {
      "cell_type": "markdown",
      "metadata": {
        "id": "G19GO8Aflmlv"
      },
      "source": [
        "Para este ejercicio, usted deberá contruir su propio árbol de desición.\n",
        "- Tenga en cuenta que se trata de un algoritmo recursivo.\n",
        "- El caso base se da cuanto todos los elementos de un nodo tiene las mismas etiquetas, es decir, es un nodo terminal. Luego, el label de ese nodo toma el valor de la etiqueta común.\n",
        "- En el caso que no sea un nodo terminal, el algoritmo debe buscar uno de los\n",
        "feactures por el cual dividirse y para esto use Ganacia de Información (Entropía o Gini).\n",
        "- Divida el dataset usando el feacture que genere una mayor ganancia de información en el padre o un menor GINI y llame recursivamente a la función create_DT.\n",
        "\n",
        "Usted usará la base de datos iris, con 4 características y 3 clases.\n",
        "Tome aleatoriamente 80% de los datos para crear el árbol y el resto para\n",
        "probar el accuracy de la predicción.\n",
        "Finalmente, muestra mediante una matriz de confusión el **accuracy** de su modelo.\n",
        "\n",
        "Trabaje en equipo:\n",
        "\n",
        "[Link de apoyo 1](https://towardsdatascience.com/the-simple-math-behind-3-decision-tree-splitting-criterions-85d4de2a75fe)\n",
        "\n",
        "[Link de apoyo 2](https://www.quantstart.com/articles/Beginners-Guide-to-Decision-Trees-for-Supervised-Machine-Learning/)\n",
        "\n"
      ]
    },
    {
      "cell_type": "code",
      "execution_count": 3,
      "metadata": {
        "colab": {
          "base_uri": "https://localhost:8080/",
          "height": 407
        },
        "id": "o74EDY9g86G9",
        "outputId": "fdf0a770-16ae-4c9d-e1e0-92fc82f2c780"
      },
      "outputs": [
        {
          "name": "stdout",
          "output_type": "stream",
          "text": [
            "   sepal length (cm)  sepal width (cm)  petal length (cm)  petal width (cm)  \\\n",
            "0                5.1               3.5                1.4               0.2   \n",
            "1                4.9               3.0                1.4               0.2   \n",
            "2                4.7               3.2                1.3               0.2   \n",
            "3                4.6               3.1                1.5               0.2   \n",
            "4                5.0               3.6                1.4               0.2   \n",
            "\n",
            "        target  \n",
            "0  Iris-setosa  \n",
            "1  Iris-setosa  \n",
            "2  Iris-setosa  \n",
            "3  Iris-setosa  \n",
            "4  Iris-setosa  \n"
          ]
        },
        {
          "ename": "KeyError",
          "evalue": "\"['species'] not found in axis\"",
          "output_type": "error",
          "traceback": [
            "\u001b[1;31m---------------------------------------------------------------------------\u001b[0m",
            "\u001b[1;31mKeyError\u001b[0m                                  Traceback (most recent call last)",
            "Cell \u001b[1;32mIn[3], line 92\u001b[0m\n\u001b[0;32m     88\u001b[0m                 current_node \u001b[38;5;241m=\u001b[39m current_node\u001b[38;5;241m.\u001b[39mm_HijoDerecho\n\u001b[0;32m     89\u001b[0m         \u001b[38;5;28;01mreturn\u001b[39;00m np\u001b[38;5;241m.\u001b[39munique(current_node\u001b[38;5;241m.\u001b[39mm_Y)[\u001b[38;5;241m0\u001b[39m]\n\u001b[1;32m---> 92\u001b[0m X \u001b[38;5;241m=\u001b[39m \u001b[43miris\u001b[49m\u001b[38;5;241;43m.\u001b[39;49m\u001b[43mdrop\u001b[49m\u001b[43m(\u001b[49m\u001b[43mcolumns\u001b[49m\u001b[38;5;241;43m=\u001b[39;49m\u001b[43m[\u001b[49m\u001b[38;5;124;43m'\u001b[39;49m\u001b[38;5;124;43mspecies\u001b[39;49m\u001b[38;5;124;43m'\u001b[39;49m\u001b[43m]\u001b[49m\u001b[43m)\u001b[49m\u001b[38;5;241m.\u001b[39mvalues\n\u001b[0;32m     93\u001b[0m Y \u001b[38;5;241m=\u001b[39m iris[\u001b[38;5;124m'\u001b[39m\u001b[38;5;124mspecies\u001b[39m\u001b[38;5;124m'\u001b[39m]\u001b[38;5;241m.\u001b[39mvalues\n\u001b[0;32m     94\u001b[0m dt \u001b[38;5;241m=\u001b[39m DT(X, Y, \u001b[38;5;241m0\u001b[39m)\n",
            "File \u001b[1;32mc:\\Users\\vilch\\Desktop\\5TH-SEMESTER-CODE\\MACHINE LEARNING\\venv\\Lib\\site-packages\\pandas\\core\\frame.py:5581\u001b[0m, in \u001b[0;36mDataFrame.drop\u001b[1;34m(self, labels, axis, index, columns, level, inplace, errors)\u001b[0m\n\u001b[0;32m   5433\u001b[0m \u001b[38;5;28;01mdef\u001b[39;00m \u001b[38;5;21mdrop\u001b[39m(\n\u001b[0;32m   5434\u001b[0m     \u001b[38;5;28mself\u001b[39m,\n\u001b[0;32m   5435\u001b[0m     labels: IndexLabel \u001b[38;5;241m|\u001b[39m \u001b[38;5;28;01mNone\u001b[39;00m \u001b[38;5;241m=\u001b[39m \u001b[38;5;28;01mNone\u001b[39;00m,\n\u001b[1;32m   (...)\u001b[0m\n\u001b[0;32m   5442\u001b[0m     errors: IgnoreRaise \u001b[38;5;241m=\u001b[39m \u001b[38;5;124m\"\u001b[39m\u001b[38;5;124mraise\u001b[39m\u001b[38;5;124m\"\u001b[39m,\n\u001b[0;32m   5443\u001b[0m ) \u001b[38;5;241m-\u001b[39m\u001b[38;5;241m>\u001b[39m DataFrame \u001b[38;5;241m|\u001b[39m \u001b[38;5;28;01mNone\u001b[39;00m:\n\u001b[0;32m   5444\u001b[0m \u001b[38;5;250m    \u001b[39m\u001b[38;5;124;03m\"\"\"\u001b[39;00m\n\u001b[0;32m   5445\u001b[0m \u001b[38;5;124;03m    Drop specified labels from rows or columns.\u001b[39;00m\n\u001b[0;32m   5446\u001b[0m \n\u001b[1;32m   (...)\u001b[0m\n\u001b[0;32m   5579\u001b[0m \u001b[38;5;124;03m            weight  1.0     0.8\u001b[39;00m\n\u001b[0;32m   5580\u001b[0m \u001b[38;5;124;03m    \"\"\"\u001b[39;00m\n\u001b[1;32m-> 5581\u001b[0m     \u001b[38;5;28;01mreturn\u001b[39;00m \u001b[38;5;28;43msuper\u001b[39;49m\u001b[43m(\u001b[49m\u001b[43m)\u001b[49m\u001b[38;5;241;43m.\u001b[39;49m\u001b[43mdrop\u001b[49m\u001b[43m(\u001b[49m\n\u001b[0;32m   5582\u001b[0m \u001b[43m        \u001b[49m\u001b[43mlabels\u001b[49m\u001b[38;5;241;43m=\u001b[39;49m\u001b[43mlabels\u001b[49m\u001b[43m,\u001b[49m\n\u001b[0;32m   5583\u001b[0m \u001b[43m        \u001b[49m\u001b[43maxis\u001b[49m\u001b[38;5;241;43m=\u001b[39;49m\u001b[43maxis\u001b[49m\u001b[43m,\u001b[49m\n\u001b[0;32m   5584\u001b[0m \u001b[43m        \u001b[49m\u001b[43mindex\u001b[49m\u001b[38;5;241;43m=\u001b[39;49m\u001b[43mindex\u001b[49m\u001b[43m,\u001b[49m\n\u001b[0;32m   5585\u001b[0m \u001b[43m        \u001b[49m\u001b[43mcolumns\u001b[49m\u001b[38;5;241;43m=\u001b[39;49m\u001b[43mcolumns\u001b[49m\u001b[43m,\u001b[49m\n\u001b[0;32m   5586\u001b[0m \u001b[43m        \u001b[49m\u001b[43mlevel\u001b[49m\u001b[38;5;241;43m=\u001b[39;49m\u001b[43mlevel\u001b[49m\u001b[43m,\u001b[49m\n\u001b[0;32m   5587\u001b[0m \u001b[43m        \u001b[49m\u001b[43minplace\u001b[49m\u001b[38;5;241;43m=\u001b[39;49m\u001b[43minplace\u001b[49m\u001b[43m,\u001b[49m\n\u001b[0;32m   5588\u001b[0m \u001b[43m        \u001b[49m\u001b[43merrors\u001b[49m\u001b[38;5;241;43m=\u001b[39;49m\u001b[43merrors\u001b[49m\u001b[43m,\u001b[49m\n\u001b[0;32m   5589\u001b[0m \u001b[43m    \u001b[49m\u001b[43m)\u001b[49m\n",
            "File \u001b[1;32mc:\\Users\\vilch\\Desktop\\5TH-SEMESTER-CODE\\MACHINE LEARNING\\venv\\Lib\\site-packages\\pandas\\core\\generic.py:4788\u001b[0m, in \u001b[0;36mNDFrame.drop\u001b[1;34m(self, labels, axis, index, columns, level, inplace, errors)\u001b[0m\n\u001b[0;32m   4786\u001b[0m \u001b[38;5;28;01mfor\u001b[39;00m axis, labels \u001b[38;5;129;01min\u001b[39;00m axes\u001b[38;5;241m.\u001b[39mitems():\n\u001b[0;32m   4787\u001b[0m     \u001b[38;5;28;01mif\u001b[39;00m labels \u001b[38;5;129;01mis\u001b[39;00m \u001b[38;5;129;01mnot\u001b[39;00m \u001b[38;5;28;01mNone\u001b[39;00m:\n\u001b[1;32m-> 4788\u001b[0m         obj \u001b[38;5;241m=\u001b[39m \u001b[43mobj\u001b[49m\u001b[38;5;241;43m.\u001b[39;49m\u001b[43m_drop_axis\u001b[49m\u001b[43m(\u001b[49m\u001b[43mlabels\u001b[49m\u001b[43m,\u001b[49m\u001b[43m \u001b[49m\u001b[43maxis\u001b[49m\u001b[43m,\u001b[49m\u001b[43m \u001b[49m\u001b[43mlevel\u001b[49m\u001b[38;5;241;43m=\u001b[39;49m\u001b[43mlevel\u001b[49m\u001b[43m,\u001b[49m\u001b[43m \u001b[49m\u001b[43merrors\u001b[49m\u001b[38;5;241;43m=\u001b[39;49m\u001b[43merrors\u001b[49m\u001b[43m)\u001b[49m\n\u001b[0;32m   4790\u001b[0m \u001b[38;5;28;01mif\u001b[39;00m inplace:\n\u001b[0;32m   4791\u001b[0m     \u001b[38;5;28mself\u001b[39m\u001b[38;5;241m.\u001b[39m_update_inplace(obj)\n",
            "File \u001b[1;32mc:\\Users\\vilch\\Desktop\\5TH-SEMESTER-CODE\\MACHINE LEARNING\\venv\\Lib\\site-packages\\pandas\\core\\generic.py:4830\u001b[0m, in \u001b[0;36mNDFrame._drop_axis\u001b[1;34m(self, labels, axis, level, errors, only_slice)\u001b[0m\n\u001b[0;32m   4828\u001b[0m         new_axis \u001b[38;5;241m=\u001b[39m axis\u001b[38;5;241m.\u001b[39mdrop(labels, level\u001b[38;5;241m=\u001b[39mlevel, errors\u001b[38;5;241m=\u001b[39merrors)\n\u001b[0;32m   4829\u001b[0m     \u001b[38;5;28;01melse\u001b[39;00m:\n\u001b[1;32m-> 4830\u001b[0m         new_axis \u001b[38;5;241m=\u001b[39m \u001b[43maxis\u001b[49m\u001b[38;5;241;43m.\u001b[39;49m\u001b[43mdrop\u001b[49m\u001b[43m(\u001b[49m\u001b[43mlabels\u001b[49m\u001b[43m,\u001b[49m\u001b[43m \u001b[49m\u001b[43merrors\u001b[49m\u001b[38;5;241;43m=\u001b[39;49m\u001b[43merrors\u001b[49m\u001b[43m)\u001b[49m\n\u001b[0;32m   4831\u001b[0m     indexer \u001b[38;5;241m=\u001b[39m axis\u001b[38;5;241m.\u001b[39mget_indexer(new_axis)\n\u001b[0;32m   4833\u001b[0m \u001b[38;5;66;03m# Case for non-unique axis\u001b[39;00m\n\u001b[0;32m   4834\u001b[0m \u001b[38;5;28;01melse\u001b[39;00m:\n",
            "File \u001b[1;32mc:\\Users\\vilch\\Desktop\\5TH-SEMESTER-CODE\\MACHINE LEARNING\\venv\\Lib\\site-packages\\pandas\\core\\indexes\\base.py:7070\u001b[0m, in \u001b[0;36mIndex.drop\u001b[1;34m(self, labels, errors)\u001b[0m\n\u001b[0;32m   7068\u001b[0m \u001b[38;5;28;01mif\u001b[39;00m mask\u001b[38;5;241m.\u001b[39many():\n\u001b[0;32m   7069\u001b[0m     \u001b[38;5;28;01mif\u001b[39;00m errors \u001b[38;5;241m!=\u001b[39m \u001b[38;5;124m\"\u001b[39m\u001b[38;5;124mignore\u001b[39m\u001b[38;5;124m\"\u001b[39m:\n\u001b[1;32m-> 7070\u001b[0m         \u001b[38;5;28;01mraise\u001b[39;00m \u001b[38;5;167;01mKeyError\u001b[39;00m(\u001b[38;5;124mf\u001b[39m\u001b[38;5;124m\"\u001b[39m\u001b[38;5;132;01m{\u001b[39;00mlabels[mask]\u001b[38;5;241m.\u001b[39mtolist()\u001b[38;5;132;01m}\u001b[39;00m\u001b[38;5;124m not found in axis\u001b[39m\u001b[38;5;124m\"\u001b[39m)\n\u001b[0;32m   7071\u001b[0m     indexer \u001b[38;5;241m=\u001b[39m indexer[\u001b[38;5;241m~\u001b[39mmask]\n\u001b[0;32m   7072\u001b[0m \u001b[38;5;28;01mreturn\u001b[39;00m \u001b[38;5;28mself\u001b[39m\u001b[38;5;241m.\u001b[39mdelete(indexer)\n",
            "\u001b[1;31mKeyError\u001b[0m: \"['species'] not found in axis\""
          ]
        }
      ],
      "source": [
        "import seaborn as sns\n",
        "import numpy as np\n",
        "import pandas as pd\n",
        "# from google.colab import drive\n",
        "# drive.mount('/content/drive')\n",
        "\n",
        "# Asume que 'Iris.csv' está en la raíz de tu Google Drive\n",
        "path = \"./iris_dataset.csv\"\n",
        "iris = pd.read_csv(path)\n",
        "print(iris.head())\n",
        "\n",
        "class Nodo:\n",
        "\n",
        "    def __init__(self, X, Y, index):\n",
        "        self.m_X = X\n",
        "        self.m_Y = Y\n",
        "        self.m_Index = index\n",
        "        self.m_HijoIzquierdo = None\n",
        "        self.m_HijoDerecho = None\n",
        "        self.m_Feature = None\n",
        "        self.m_Valor = None\n",
        "\n",
        "    def IsTerminal(self, Y):\n",
        "\n",
        "        return len(np.unique(Y)) == 1\n",
        "\n",
        "    def BestSplit(self, X, Y):\n",
        "\n",
        "        H = self.Entropy(Y)\n",
        "        for i in range(X.shape[1]):\n",
        "            feature_values = np.unique(X[:, i])\n",
        "            for value in feature_values:\n",
        "                X_izquierdo = X[X[:, i] <= value]\n",
        "                Y_izquierdo = Y[X[:, i] <= value]\n",
        "                H_izquierdo = self.Entropy(Y_izquierdo)\n",
        "\n",
        "                X_derecho = X[X[:, i] > value]\n",
        "                Y_derecho = Y[X[:, i] > value]\n",
        "                H_derecho = self.Entropy(Y_derecho)\n",
        "                H_condicional = (len(Y_izquierdo) / len(Y)) * H_izquierdo + (len(Y_derecho) / len(Y)) * H_derecho\n",
        "                if H - H_condicional > self.m_Hoja:\n",
        "                    self.m_Hoja = H - H_condicional\n",
        "                    self.m_Feature = i\n",
        "                    self.m_Valor = value\n",
        "\n",
        "        return self.m_Feature, self.m_Valor\n",
        "\n",
        "    def Entropy(self, Y):\n",
        "        p = np.unique(Y, return_counts=True)[1] / len(Y)\n",
        "        H = 0\n",
        "        for pi in p:\n",
        "            if pi != 0:\n",
        "                H -= pi * np.log2(pi)\n",
        "        return H\n",
        "\n",
        "class DT:\n",
        "\n",
        "    def __init__(self, X, Y, index):\n",
        "        self.m_X = X\n",
        "        self.m_Y = Y\n",
        "        self.m_Index = index\n",
        "        self.m_Root = None\n",
        "\n",
        "    def create_DT(self):\n",
        "\n",
        "        self.m_Root = Nodo(self.m_X, self.m_Y, 0)\n",
        "\n",
        "        if self.m_Root.IsTerminal(self.m_Y):\n",
        "            return self.m_Root\n",
        "        feature, valor = self.m_Root.BestSplit(self.m_X, self.m_Y)\n",
        "        self.m_Root.m_HijoIzquierdo = Nodo(\n",
        "            self.m_X[self.m_X[:, feature] <= valor],\n",
        "            self.m_Y[self.m_X[:, feature] <= valor],\n",
        "            self.m_Index + 1,\n",
        "        )\n",
        "        self.m_Root.m_HijoDerecho\n",
        "        return self.m_Root\n",
        "    \n",
        "    def predict(self, X):\n",
        "        return np.array([self.predict_sample(x) for x in X])\n",
        "    \n",
        "    def predict_sample(self, x):\n",
        "        current_node = self.m_Root\n",
        "        while current_node.m_Feature is not None:\n",
        "            if x[current_node.m_Feature] <= current_node.m_Valor:\n",
        "                current_node = current_node.m_HijoIzquierdo\n",
        "            else:\n",
        "                current_node = current_node.m_HijoDerecho\n",
        "        return np.unique(current_node.m_Y)[0]\n",
        "    \n",
        "\n",
        "X = iris.drop(columns=['species']).values\n",
        "Y = iris['species'].values\n",
        "dt = DT(X, Y, 0)\n",
        "dt.create_DT()\n",
        "print(dt.predict(X))"
      ]
    }
  ],
  "metadata": {
    "colab": {
      "provenance": []
    },
    "kernelspec": {
      "display_name": "Python 3",
      "name": "python3"
    },
    "language_info": {
      "codemirror_mode": {
        "name": "ipython",
        "version": 3
      },
      "file_extension": ".py",
      "mimetype": "text/x-python",
      "name": "python",
      "nbconvert_exporter": "python",
      "pygments_lexer": "ipython3",
      "version": "3.11.4"
    }
  },
  "nbformat": 4,
  "nbformat_minor": 0
}
