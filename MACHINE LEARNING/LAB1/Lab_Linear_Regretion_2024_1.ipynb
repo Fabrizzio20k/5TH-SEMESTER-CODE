{
  "cells": [
    {
      "cell_type": "markdown",
      "metadata": {
        "id": "E6kE8LGPqPHd"
      },
      "source": [
        "#Práctica 1  : Regresión Lineal\n",
        "###Curso       : Machine Learning\n",
        "###Profesor    : Cristian López\n",
        "###Grupo Numero:\n",
        "----\n",
        "Participantes:\n",
        "1.                            (%)\n",
        "2.                            (%)\n",
        "3.                            (%)\n",
        "4.                            (%)"
      ]
    },
    {
      "cell_type": "markdown",
      "metadata": {
        "id": "n5_c7fkMq7CB"
      },
      "source": [
        "---\n",
        "1. Reglas de juego:   \n",
        "  a. Al iniciar, coloca los nombres de las personas que realmente han intervenido en el desarrollo de este concurso.   \n",
        "  b. Cada equipo tiene **1 hora y 30 minutos** para terminar el concurso.   \n",
        "  c. Solo se permite modificar el código que dice “modificar”.    \n",
        "  d. Junto a los nombres de los participantes, **coloca el porcentaje de participación** en esta actividad (de 0 a 100). e. Al final, debes tener un **archivo con las respuestas de test**.\n",
        "---\n",
        "\n",
        "2. Datos de testing y training\n",
        "\n",
        "  1. Link para descargar los datos de: [train](https://drive.google.com/file/d/1PyVxgQvvKu2fbPm7P_4CmBRjkNGf82Pc/view?usp=sharing)\n",
        "\n",
        "  2. Link para descargar los datos de: [test](https://drive.google.com/file/d/10mC3koCHCtyZiy-Xu1XPljS5DME9OF8S/view?usp=sharing)\n",
        "\n",
        "3. Descargar los archivos y subir a su drive de google\n",
        "\n",
        "4. Recuerde el path donde están sus archivos dentro de colab"
      ]
    },
    {
      "cell_type": "code",
      "execution_count": 159,
      "metadata": {
        "colab": {
          "base_uri": "https://localhost:8080/"
        },
        "id": "u_LoqJpdV9RB",
        "outputId": "95b2a362-36f3-4b2f-9da7-b377feabb0e5"
      },
      "outputs": [],
      "source": [
        "# Comandos para dar acceso a su Drive de google\n",
        "#from google.colab import drive\n",
        "#drive.mount('/content/drive')\n"
      ]
    },
    {
      "cell_type": "markdown",
      "metadata": {
        "id": "efhV-FV_pahN"
      },
      "source": []
    },
    {
      "cell_type": "code",
      "execution_count": 160,
      "metadata": {
        "colab": {
          "base_uri": "https://localhost:8080/",
          "height": 206
        },
        "id": "NowEnDO5WFr1",
        "outputId": "bef17d8f-c587-4c7c-aac1-8749ffea7fe9"
      },
      "outputs": [
        {
          "data": {
            "text/html": [
              "<div>\n",
              "<style scoped>\n",
              "    .dataframe tbody tr th:only-of-type {\n",
              "        vertical-align: middle;\n",
              "    }\n",
              "\n",
              "    .dataframe tbody tr th {\n",
              "        vertical-align: top;\n",
              "    }\n",
              "\n",
              "    .dataframe thead th {\n",
              "        text-align: right;\n",
              "    }\n",
              "</style>\n",
              "<table border=\"1\" class=\"dataframe\">\n",
              "  <thead>\n",
              "    <tr style=\"text-align: right;\">\n",
              "      <th></th>\n",
              "      <th>F1</th>\n",
              "      <th>F2</th>\n",
              "    </tr>\n",
              "  </thead>\n",
              "  <tbody>\n",
              "    <tr>\n",
              "      <th>0</th>\n",
              "      <td>2000</td>\n",
              "      <td>1328</td>\n",
              "    </tr>\n",
              "    <tr>\n",
              "      <th>1</th>\n",
              "      <td>1600</td>\n",
              "      <td>1235</td>\n",
              "    </tr>\n",
              "    <tr>\n",
              "      <th>2</th>\n",
              "      <td>1600</td>\n",
              "      <td>1365</td>\n",
              "    </tr>\n",
              "    <tr>\n",
              "      <th>3</th>\n",
              "      <td>1600</td>\n",
              "      <td>1150</td>\n",
              "    </tr>\n",
              "    <tr>\n",
              "      <th>4</th>\n",
              "      <td>1600</td>\n",
              "      <td>1326</td>\n",
              "    </tr>\n",
              "  </tbody>\n",
              "</table>\n",
              "</div>"
            ],
            "text/plain": [
              "     F1    F2\n",
              "0  2000  1328\n",
              "1  1600  1235\n",
              "2  1600  1365\n",
              "3  1600  1150\n",
              "4  1600  1326"
            ]
          },
          "execution_count": 160,
          "metadata": {},
          "output_type": "execute_result"
        }
      ],
      "source": [
        "import pandas as pd\n",
        "import numpy as np\n",
        "\n",
        "# Colocar el path donde se encuentra sus archivos train y test\n",
        "path = ''\n",
        "# Cargamos los datos, pero tenga en cuenta que se cargan como dataframes de python\n",
        "df_train = pd.read_csv(path + 'train.csv')\n",
        "df_test  = pd.read_csv(path + 'test.csv')\n",
        "df_test.head()\n"
      ]
    },
    {
      "cell_type": "code",
      "execution_count": 161,
      "metadata": {
        "id": "BTYNnrH-eIiL"
      },
      "outputs": [
        {
          "name": "stdout",
          "output_type": "stream",
          "text": [
            "[[0.3125     0.26603001]\n",
            " [0.5625     0.39290587]\n",
            " [0.5625     0.21555252]\n",
            " [0.5625     0.50886767]\n",
            " [0.5625     0.26875853]\n",
            " [1.         0.89768076]\n",
            " [0.5625     0.55115962]\n",
            " [0.         0.17462483]\n",
            " [0.5625     0.        ]\n",
            " [0.9375     1.        ]\n",
            " [0.5625     0.18144611]]\n"
          ]
        }
      ],
      "source": [
        "# Convertimos los dataframe a numpy array\n",
        "# x_train = df_train[[\"F1\"]].to_numpy()\n",
        "# Descomentar para probar con n variables\n",
        "# x_test = df_test[[\"F1\",\"F2\"]].to_numpy()\n",
        "\n",
        "y_train = df_train[[\"Y\"]].to_numpy()\n",
        "\n",
        "# Descomentar para probar con n variables\n",
        "x_train = df_test[[\"F1\",\"F2\"]].to_numpy()\n",
        "\n",
        "\n",
        "# Normalizando los datos\n",
        "# x_train = (max(x_train) - x_train) /(max(x_train) - min(x_train))\n",
        "x_test_max = np.max(x_train, axis=0)\n",
        "x_test_min = np.min(x_train, axis=0)\n",
        "\n",
        "x_train = (x_test_max - x_train) / (x_test_max - x_test_min)\n",
        "y_train = (max(y_train) - y_train) /(max(y_train) - min(y_train))\n",
        "\n",
        "\n",
        "print(x_train)\n"
      ]
    },
    {
      "cell_type": "markdown",
      "metadata": {
        "id": "DRbGcXmWIaKO"
      },
      "source": [
        "# Modelo\n",
        "$h(X) = X*W^T + b$"
      ]
    },
    {
      "cell_type": "code",
      "execution_count": 175,
      "metadata": {
        "id": "2NnYyf2oG1Fw"
      },
      "outputs": [],
      "source": [
        "def h(x,w,b):\n",
        "  return np.dot(x,np.transpose(w)) + b\n",
        " # write your code here\n",
        "\n"
      ]
    },
    {
      "cell_type": "markdown",
      "metadata": {
        "id": "MHWVdGjbIUna"
      },
      "source": [
        "# Loss function\n",
        "$Loss =\\frac{1}{2n}\\sum_{i=0}^n (y_i - h(x_i))^2$"
      ]
    },
    {
      "cell_type": "code",
      "execution_count": 169,
      "metadata": {
        "id": "2FiEbigVG9Hf"
      },
      "outputs": [],
      "source": [
        "def Error(y,x,w,b):\n",
        "   y_aprox = h(x,w,b)\n",
        "   s = 0\n",
        "   for i in range(len(y)):\n",
        "      s = s  + (y[i] - y_aprox[i])**2\n",
        "   return  s/(2*len(y))\n",
        "  # write your code here\n",
        "\n",
        "\n",
        "\n"
      ]
    },
    {
      "cell_type": "markdown",
      "metadata": {
        "id": "jV-_CQ87FrdQ"
      },
      "source": [
        "# Derivadas:\n",
        "\n",
        "Este código se debe modificar para obtener las k derivadas.\n",
        "  \n",
        "$db = \\frac{1}{m}\\sum_{i=0}^m(y_i - h(x_i))(-1)$\n",
        "\n",
        "$dw_j = \\frac{1}{m}\\sum_{i=0}^m(y_i - h(x_i))(-x_j)$"
      ]
    },
    {
      "cell_type": "code",
      "execution_count": 164,
      "metadata": {
        "id": "0RxT6ee6H8Vn"
      },
      "outputs": [],
      "source": [
        "# Change your code here for work in n dimensions\n",
        "def derivada(x,y,w,b):\n",
        "    y_aprox = h(x,w,b)\n",
        "    dw = np.zeros(len(w))\n",
        "    db = 0\n",
        "    for i in range(len(y)):\n",
        "        db = db + (y[i] - y_aprox[i])*(-1)\n",
        "        for j in range(len(w)):\n",
        "            dw[j] = dw[j] + (y[i] - y_aprox[i])*(-x[i][j])\n",
        "    return db/len(y), dw/len(y)\n",
        "\n",
        "\n",
        "\n"
      ]
    },
    {
      "cell_type": "markdown",
      "metadata": {
        "id": "8txZSwmyu_W4"
      },
      "source": [
        "# Actualización  de parámetros\n",
        "\n",
        "Tenga en cuenta que ahora tenemos k+1 parámetros que debemos actualizar, por lo tanto este código se debe modificar\n",
        "\n",
        "$w_j = w - alfa*dw_j$  \n",
        "$b = b - alfa*db$\n",
        "\n"
      ]
    },
    {
      "cell_type": "code",
      "execution_count": 165,
      "metadata": {
        "id": "yv06Mc7NJJx6"
      },
      "outputs": [],
      "source": [
        "# Change your code here for work in n dimensions\n",
        "def update(w,b, alpha,db,dw):\n",
        "  b = b - alpha*db\n",
        "  w = w - alpha*dw\n",
        "  return w,b"
      ]
    },
    {
      "cell_type": "markdown",
      "metadata": {
        "id": "fWmlhJtutkcr"
      },
      "source": [
        "# Entrenamiento\n",
        "\n",
        "Se deben modificar solo la inicialización por que ahora w no es un único valor"
      ]
    },
    {
      "cell_type": "code",
      "execution_count": 209,
      "metadata": {
        "id": "HSuPO-XiIjem"
      },
      "outputs": [],
      "source": [
        "# Change your code here for work in n dimensions\n",
        "def train(x,y,umbral, alfa):\n",
        "  # No borrar ni cambiar\n",
        "  np.random.seed(12)\n",
        "  # w es un vector de n dimensiones que se inicializa con valores aleatorios de acuerdo a la cantidad de datos en x\n",
        "  w = np.random.rand(x.shape[1])\n",
        "  b = np.random.rand()\n",
        "  L = Error(x,y,w,b)\n",
        "  mse = 0\n",
        "  i=0\n",
        "  while np.all(L > umbral):\n",
        "    db, dw = derivada(x, y, w, b)\n",
        "    b, w = update(w, b, alfa, db, dw)\n",
        "    L = Error(x, y, w, b)\n",
        "    mse = mse + L\n",
        "    if i % 100 == 0:\n",
        "        print(\"mse en iteración\" + str(i) + \" : \" + str(L))\n",
        "    i = i + 1\n",
        "  return b,w,mse/(i+1)\n",
        "\n"
      ]
    },
    {
      "cell_type": "markdown",
      "metadata": {
        "id": "m7cG4tK2fmK8"
      },
      "source": [
        "# Training the model\n",
        "## No modificar ....."
      ]
    },
    {
      "cell_type": "code",
      "execution_count": 207,
      "metadata": {
        "colab": {
          "base_uri": "https://localhost:8080/"
        },
        "id": "1fDoxgZxh2jV",
        "outputId": "946342d8-9a97-487b-c53d-7e3bd7f697fa"
      },
      "outputs": [
        {
          "ename": "ValueError",
          "evalue": "shapes (25,1) and (2,) not aligned: 1 (dim 1) != 2 (dim 0)",
          "output_type": "error",
          "traceback": [
            "\u001b[1;31m---------------------------------------------------------------------------\u001b[0m",
            "\u001b[1;31mValueError\u001b[0m                                Traceback (most recent call last)",
            "Cell \u001b[1;32mIn[207], line 5\u001b[0m\n\u001b[0;32m      3\u001b[0m umbral \u001b[38;5;241m=\u001b[39m \u001b[38;5;241m0.045\u001b[39m\n\u001b[0;32m      4\u001b[0m \u001b[38;5;66;03m#Training the model\u001b[39;00m\n\u001b[1;32m----> 5\u001b[0m b,w, avg_mse \u001b[38;5;241m=\u001b[39m \u001b[43mtrain\u001b[49m\u001b[43m(\u001b[49m\u001b[43mx_train\u001b[49m\u001b[43m,\u001b[49m\u001b[43m \u001b[49m\u001b[43my_train\u001b[49m\u001b[43m,\u001b[49m\u001b[43m \u001b[49m\u001b[43mumbral\u001b[49m\u001b[43m,\u001b[49m\u001b[43m \u001b[49m\u001b[43malfa\u001b[49m\u001b[43m)\u001b[49m\n\u001b[0;32m      6\u001b[0m \u001b[38;5;66;03m#Show the average mean square error\u001b[39;00m\n\u001b[0;32m      7\u001b[0m \u001b[38;5;28mprint\u001b[39m(\u001b[38;5;124m\"\u001b[39m\u001b[38;5;124mavg_mse :\u001b[39m\u001b[38;5;124m\"\u001b[39m \u001b[38;5;241m+\u001b[39m \u001b[38;5;28mstr\u001b[39m(avg_mse))\n",
            "Cell \u001b[1;32mIn[206], line 8\u001b[0m, in \u001b[0;36mtrain\u001b[1;34m(x, y, umbral, alfa)\u001b[0m\n\u001b[0;32m      6\u001b[0m w \u001b[38;5;241m=\u001b[39m np\u001b[38;5;241m.\u001b[39mrandom\u001b[38;5;241m.\u001b[39mrand(x\u001b[38;5;241m.\u001b[39mshape[\u001b[38;5;241m1\u001b[39m])\n\u001b[0;32m      7\u001b[0m b \u001b[38;5;241m=\u001b[39m np\u001b[38;5;241m.\u001b[39mrandom\u001b[38;5;241m.\u001b[39mrand()\n\u001b[1;32m----> 8\u001b[0m L \u001b[38;5;241m=\u001b[39m \u001b[43mError\u001b[49m\u001b[43m(\u001b[49m\u001b[43mx\u001b[49m\u001b[43m,\u001b[49m\u001b[43my\u001b[49m\u001b[43m,\u001b[49m\u001b[43mw\u001b[49m\u001b[43m,\u001b[49m\u001b[43mb\u001b[49m\u001b[43m)\u001b[49m\n\u001b[0;32m      9\u001b[0m mse \u001b[38;5;241m=\u001b[39m \u001b[38;5;241m0\u001b[39m\n\u001b[0;32m     10\u001b[0m i\u001b[38;5;241m=\u001b[39m\u001b[38;5;241m0\u001b[39m\n",
            "Cell \u001b[1;32mIn[169], line 2\u001b[0m, in \u001b[0;36mError\u001b[1;34m(y, x, w, b)\u001b[0m\n\u001b[0;32m      1\u001b[0m \u001b[38;5;28;01mdef\u001b[39;00m \u001b[38;5;21mError\u001b[39m(y,x,w,b):\n\u001b[1;32m----> 2\u001b[0m    y_aprox \u001b[38;5;241m=\u001b[39m \u001b[43mh\u001b[49m\u001b[43m(\u001b[49m\u001b[43mx\u001b[49m\u001b[43m,\u001b[49m\u001b[43mw\u001b[49m\u001b[43m,\u001b[49m\u001b[43mb\u001b[49m\u001b[43m)\u001b[49m\n\u001b[0;32m      3\u001b[0m    s \u001b[38;5;241m=\u001b[39m \u001b[38;5;241m0\u001b[39m\n\u001b[0;32m      4\u001b[0m    \u001b[38;5;28;01mfor\u001b[39;00m i \u001b[38;5;129;01min\u001b[39;00m \u001b[38;5;28mrange\u001b[39m(\u001b[38;5;28mlen\u001b[39m(y)):\n",
            "Cell \u001b[1;32mIn[175], line 2\u001b[0m, in \u001b[0;36mh\u001b[1;34m(x, w, b)\u001b[0m\n\u001b[0;32m      1\u001b[0m \u001b[38;5;28;01mdef\u001b[39;00m \u001b[38;5;21mh\u001b[39m(x,w,b):\n\u001b[1;32m----> 2\u001b[0m   \u001b[38;5;28;01mreturn\u001b[39;00m \u001b[43mnp\u001b[49m\u001b[38;5;241;43m.\u001b[39;49m\u001b[43mdot\u001b[49m\u001b[43m(\u001b[49m\u001b[43mx\u001b[49m\u001b[43m,\u001b[49m\u001b[43mw\u001b[49m\u001b[43m)\u001b[49m \u001b[38;5;241m+\u001b[39m b\n",
            "\u001b[1;31mValueError\u001b[0m: shapes (25,1) and (2,) not aligned: 1 (dim 1) != 2 (dim 0)"
          ]
        }
      ],
      "source": [
        "\n",
        "#Setting the hiperparameter\n",
        "alfa = 0.07\n",
        "umbral = 0.045\n",
        "#Training the model\n",
        "b,w, avg_mse = train(x_train, y_train, umbral, alfa)\n",
        "#Show the average mean square error\n",
        "print(\"avg_mse :\" + str(avg_mse))\n",
        "\n"
      ]
    },
    {
      "cell_type": "markdown",
      "metadata": {
        "id": "SRbI3Gmnj5Pm"
      },
      "source": [
        "# Testing the model\n",
        "\n",
        "# No modificar"
      ]
    },
    {
      "cell_type": "code",
      "execution_count": null,
      "metadata": {
        "colab": {
          "base_uri": "https://localhost:8080/"
        },
        "id": "g2U9kMeDj-na",
        "outputId": "b06d9052-957d-45e6-d203-25e2f6669a1a"
      },
      "outputs": [
        {
          "data": {
            "text/plain": [
              "'\\nx_test = (max(x_test) - x_test) /(max(x_test) - min(x_test))\\npredic = h(x_test,w,b)\\npredic = np.array(predic)\\npredic.tofile(path  + \"G1_Result.cvs\")\\nprint(predic)\\n'"
            ]
          },
          "execution_count": 143,
          "metadata": {},
          "output_type": "execute_result"
        }
      ],
      "source": [
        "# No modificar .....\n",
        "x_test = df_test[[\"F1\"]].to_numpy()\n",
        "\n",
        "# Descomentar para probar con n variables\n",
        "x_test = df_test[[\"F1\",\"F2\"]].to_numpy()\n",
        "\n",
        "# Normalizando los datos\n",
        "\n",
        "x_test_max = np.max(x_test, axis=0)\n",
        "x_test_min = np.min(x_test, axis=0)\n",
        "\n",
        "x_test = (x_test_max - x_test) / (x_test_max - x_test_min)\n",
        "\n",
        "#testing the model\n",
        "\n",
        "'''\n",
        "x_test = (max(x_test) - x_test) /(max(x_test) - min(x_test))\n",
        "predic = h(x_test,w,b)\n",
        "predic = np.array(predic)\n",
        "predic.tofile(path  + \"G1_Result.cvs\")\n",
        "print(predic)\n",
        "'''\n"
      ]
    },
    {
      "cell_type": "markdown",
      "metadata": {
        "id": "K7QM4lOtykTY"
      },
      "source": [
        "# Verificando sus resultados\n",
        "\n",
        "Copiar los resultados en el mismo orden en el siguiente documento de drive. Solo use la columna donde está en nombre de su Grupo. En la pestaña Puntajes, colocar los resultados que han obtenido en el orden que los han obtenido.\n",
        "[Coloque resultados aquí](https://docs.google.com/spreadsheets/d/181SI4CZ5t9UNtE46OplvpflB5Uyjdj9yLQow2xN13Y4/edit?usp=sharing)\n",
        "\n"
      ]
    }
  ],
  "metadata": {
    "colab": {
      "provenance": []
    },
    "kernelspec": {
      "display_name": "Python 3",
      "name": "python3"
    },
    "language_info": {
      "codemirror_mode": {
        "name": "ipython",
        "version": 3
      },
      "file_extension": ".py",
      "mimetype": "text/x-python",
      "name": "python",
      "nbconvert_exporter": "python",
      "pygments_lexer": "ipython3",
      "version": "3.12.0"
    }
  },
  "nbformat": 4,
  "nbformat_minor": 0
}
