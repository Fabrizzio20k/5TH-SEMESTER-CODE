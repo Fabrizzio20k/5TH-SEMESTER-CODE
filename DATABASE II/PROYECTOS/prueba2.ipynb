{
 "cells": [
  {
   "cell_type": "code",
   "execution_count": 7,
   "metadata": {},
   "outputs": [],
   "source": [
    "from SpimiIndexer import SPIMIIndexer\n",
    "# Ejemplo de uso\n",
    "indexer = SPIMIIndexer('spotify_songs.csv')\n"
   ]
  },
  {
   "cell_type": "code",
   "execution_count": 21,
   "metadata": {},
   "outputs": [
    {
     "name": "stdout",
     "output_type": "stream",
     "text": [
      "[{'track_name': 'Madura (feat. Bad Bunny)', 'row_position': 1668, 'cosine_similarity': 1.8831536805417297, 'track_artist': 'Cosculluela', 'track_album_name': 'Madura (feat. Bad Bunny)'}, {'track_name': 'La Jeepeta', 'row_position': 11175, 'cosine_similarity': 0.7053760357312566, 'track_artist': 'Nio Garcia', 'track_album_name': 'La Jeepeta'}, {'track_name': 'Mi Dios Es Grande', 'row_position': 6393, 'cosine_similarity': 0.6949870140405484, 'track_artist': 'Artury Pepper', 'track_album_name': 'Mi Dios Es Grande'}, {'track_name': 'Ocean', 'row_position': 15815, 'cosine_similarity': 0.49552194148059103, 'track_artist': 'KAROL G', 'track_album_name': 'OCEAN'}, {'track_name': 'Superhuman (feat. Eric Leva)', 'row_position': 12837, 'cosine_similarity': 0.4361188230920928, 'track_artist': 'SLANDER', 'track_album_name': 'Superhuman (feat. Eric Leva)'}, {'track_name': 'Daylight', 'row_position': 5749, 'cosine_similarity': 0.4281809558551308, 'track_artist': 'Matt and Kim', 'track_album_name': 'Grand'}, {'track_name': 'Daylight', 'row_position': 12075, 'cosine_similarity': 0.4281809558551308, 'track_artist': 'Matt and Kim', 'track_album_name': 'Grand'}, {'track_name': 'McDonalds Rich', 'row_position': 4410, 'cosine_similarity': 0.406179946705751, 'track_artist': 'SAINt JHN', 'track_album_name': 'McDonalds Rich'}, {'track_name': 'Clandestino (feat. Calypso Rose)', 'row_position': 2150, 'cosine_similarity': 0.4032207646336693, 'track_artist': 'Manu Chao', 'track_album_name': 'Clandestino (feat. Calypso Rose)'}, {'track_name': 'Asesino de Acesinos', 'row_position': 5792, 'cosine_similarity': 0.4012509396396048, 'track_artist': 'Cartel De Santa', 'track_album_name': 'Cartel De Santa'}]\n"
     ]
    }
   ],
   "source": [
    "# Consulta de ejemplo\n",
    "query = \"Tu esta grande esta madura\"\n",
    "additional_features = ['track_artist', 'track_album_name']\n",
    "top_k_results = indexer.retrieve_top_k(query, k=10, additional_features=additional_features)\n",
    "\n",
    "print(top_k_results[\"results\"])"
   ]
  }
 ],
 "metadata": {
  "kernelspec": {
   "display_name": "venv",
   "language": "python",
   "name": "python3"
  },
  "language_info": {
   "codemirror_mode": {
    "name": "ipython",
    "version": 3
   },
   "file_extension": ".py",
   "mimetype": "text/x-python",
   "name": "python",
   "nbconvert_exporter": "python",
   "pygments_lexer": "ipython3",
   "version": "3.11.4"
  }
 },
 "nbformat": 4,
 "nbformat_minor": 2
}
