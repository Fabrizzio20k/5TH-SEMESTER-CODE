{
 "cells": [
  {
   "cell_type": "code",
   "execution_count": 9,
   "metadata": {},
   "outputs": [],
   "source": [
    "from SpimiIndexer import SPIMIIndexer\n",
    "# Ejemplo de uso\n",
    "indexer = SPIMIIndexer('spotify_songs.csv')\n"
   ]
  },
  {
   "cell_type": "code",
   "execution_count": 15,
   "metadata": {},
   "outputs": [
    {
     "name": "stdout",
     "output_type": "stream",
     "text": [
      "[{'track_name': 'Just My Imagination', 'row_position': 744, 'cosine_similarity': 3.166541235440589, 'track_artist': 'The Cranberries', 'track_album_name': 'Bury The Hatchet'}, {'track_name': 'imagine', 'row_position': 1887, 'cosine_similarity': 2.705753782954587, 'track_artist': 'Ariana Grande', 'track_album_name': 'imagine'}, {'track_name': 'imagine', 'row_position': 7432, 'cosine_similarity': 2.705753782954587, 'track_artist': 'Ariana Grande', 'track_album_name': 'thank u, next'}, {'track_name': 'Uno', 'row_position': 16622, 'cosine_similarity': 2.0511288599384097, 'track_artist': 'John Christian', 'track_album_name': 'Uno'}, {'track_name': 'Imagination', 'row_position': 5551, 'cosine_similarity': 1.999735537457389, 'track_artist': 'Foster The People', 'track_album_name': 'Imagination'}, {'track_name': 'Imagine - Remastered', 'row_position': 6911, 'cosine_similarity': 1.6283059808583151, 'track_artist': 'John Lennon', 'track_album_name': 'Gimme Some Truth'}, {'track_name': 'Imagine', 'row_position': 8617, 'cosine_similarity': 1.5565500183489394, 'track_artist': 'Jack Johnson', 'track_album_name': 'Instant Karma: The Amnesty International Campaign To Save Darfur (Standard Version)'}, {'track_name': 'Imagine Me', 'row_position': 17722, 'cosine_similarity': 1.3015085634180235, 'track_artist': 'Kirk Franklin', 'track_album_name': 'Hero'}, {'track_name': 'Sentimientos Escondidos - Remix', 'row_position': 12431, 'cosine_similarity': 0.9415448030903094, 'track_artist': 'J Alvarez', 'track_album_name': 'La Fama Que Camina Extended Play'}, {'track_name': 'Mas De Lo Que Te Imaginas (Classic Version)', 'row_position': 12808, 'cosine_similarity': 0.9186197021635165, 'track_artist': 'The Sacados', 'track_album_name': 'Superexitos Vol. 2'}]\n"
     ]
    }
   ],
   "source": [
    "# Consulta de ejemplo\n",
    "query = \"\"\"I see us dancing by ourselves\n",
    "We do it better with\n",
    "No one around, yeah\n",
    "Just you in my imagination, yeah\n",
    "In my imagination, oh, oh\"\"\"\n",
    "additional_features = ['track_artist', 'track_album_name']\n",
    "top_k_results = indexer.retrieve_top_k(query, k=10, additional_features=additional_features)\n",
    "\n",
    "print(top_k_results[\"results\"])"
   ]
  }
 ],
 "metadata": {
  "kernelspec": {
   "display_name": "venv",
   "language": "python",
   "name": "python3"
  },
  "language_info": {
   "codemirror_mode": {
    "name": "ipython",
    "version": 3
   },
   "file_extension": ".py",
   "mimetype": "text/x-python",
   "name": "python",
   "nbconvert_exporter": "python",
   "pygments_lexer": "ipython3",
   "version": "3.12.0"
  }
 },
 "nbformat": 4,
 "nbformat_minor": 2
}
