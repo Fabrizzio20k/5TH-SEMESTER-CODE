{
 "cells": [
  {
   "cell_type": "code",
   "execution_count": 3,
   "metadata": {},
   "outputs": [
    {
     "name": "stderr",
     "output_type": "stream",
     "text": [
      "C:\\Users\\vilch\\AppData\\Local\\Temp\\ipykernel_86788\\586662257.py:3: DtypeWarning: Columns (1,3,5) have mixed types. Specify dtype option on import or set low_memory=False.\n",
      "  dt = pd.read_csv(\"news.csv\", encoding='utf-8')\n"
     ]
    },
    {
     "name": "stdout",
     "output_type": "stream",
     "text": [
      "Index(['Unnamed: 0.1', 'Unnamed: 0', 'date', 'year', 'month', 'day', 'author',\n",
      "       'title', 'article', 'url', 'section', 'publication'],\n",
      "      dtype='object')\n",
      "                                               title  \\\n",
      "0  We should take concerns about the health of li...   \n",
      "1  Colts GM Ryan Grigson says Andrew Luck's contr...   \n",
      "2       Trump denies report he ordered Mueller fired   \n",
      "3  France's Sarkozy reveals his 'Passions' but in...   \n",
      "4  Paris Hilton: Woman In Black For Uncle Monty's...   \n",
      "\n",
      "                                             article  \n",
      "0  This post is part of Polyarchy, an independent...  \n",
      "1   The Indianapolis Colts made Andrew Luck the h...  \n",
      "2  DAVOS, Switzerland (Reuters) - U.S. President ...  \n",
      "3  PARIS (Reuters) - Former French president Nico...  \n",
      "4  Paris Hilton arrived at LAX Wednesday dressed ...  \n",
      "(2584149, 2)\n"
     ]
    }
   ],
   "source": [
    "import pandas as pd\n",
    "\n",
    "dt = pd.read_csv(\"news.csv\", encoding='utf-8')\n",
    "\n",
    "print(dt.columns)\n",
    "\n",
    "# create a new dataset with only the columns title and article\n",
    "dt2 = dt[['title', 'article']]\n",
    "\n",
    "#delete rows with missing values\n",
    "dt2 = dt2.dropna()\n",
    "\n",
    "print(dt2.head())\n",
    "print(dt2.shape)\n",
    "\n",
    "#save the new dataset\n",
    "dt2.to_csv(\"news_oficial.csv\", index=False, encoding='utf-8')\n",
    "\n"
   ]
  }
 ],
 "metadata": {
  "kernelspec": {
   "display_name": "venv",
   "language": "python",
   "name": "python3"
  },
  "language_info": {
   "codemirror_mode": {
    "name": "ipython",
    "version": 3
   },
   "file_extension": ".py",
   "mimetype": "text/x-python",
   "name": "python",
   "nbconvert_exporter": "python",
   "pygments_lexer": "ipython3",
   "version": "3.12.0"
  }
 },
 "nbformat": 4,
 "nbformat_minor": 2
}
