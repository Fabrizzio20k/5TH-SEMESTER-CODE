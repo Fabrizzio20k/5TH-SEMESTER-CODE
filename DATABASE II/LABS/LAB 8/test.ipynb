{
 "cells": [
  {
   "cell_type": "code",
   "execution_count": 28,
   "metadata": {},
   "outputs": [
    {
     "name": "stdout",
     "output_type": "stream",
     "text": [
      "{'lorem': [(0, 1), (1, 1), (2, 1)], 'ipsum': [(0, 1), (1, 1), (2, 1)], 'dolor': [(0, 1), (1, 1), (2, 1)], 'sit': [(0, 1), (1, 1), (2, 1)], 'amet': [(0, 1), (1, 1), (2, 1)], 'consectetur': [(0, 1), (1, 1), (2, 1)], 'adipiscing': [(0, 1), (1, 1), (2, 1)], 'elit': [(0, 1), (1, 1), (2, 1)], 'nullam': [(0, 2), (1, 2), (2, 2)], 'nec': [(0, 6), (1, 6), (2, 6)], 'null': [(0, 3), (1, 3), (2, 3)], 'auctor': [(0, 3), (1, 3), (2, 3)], 'ultrici': [(0, 6), (1, 6), (2, 6)], 'nunc': [(0, 6), (1, 6), (2, 6)], 'sed': [(0, 1), (1, 1), (2, 1)]}\n"
     ]
    }
   ],
   "source": [
    "from nltk import word_tokenize\n",
    "from nltk.corpus import stopwords\n",
    "from nltk.stem import SnowballStemmer\n",
    "\n",
    "# import nltk\n",
    "# nltk.download('stopwords')\n",
    "\n",
    "def preprocess(text):\n",
    "    words = word_tokenize(text)\n",
    "    words = [word.lower() for word in words]\n",
    "    words = [word for word in words if word.isalpha()]\n",
    "    stop_words = set(stopwords.words('spanish'))\n",
    "    words = [word for word in words if word not in stop_words]\n",
    "    stemmer = SnowballStemmer('spanish')\n",
    "    words = [stemmer.stem(word) for word in words]\n",
    "    return words\n",
    "\n",
    "def createInvertedIndexWithTF(texts):\n",
    "    invertedIndex = {}\n",
    "    for i, text in enumerate(texts):\n",
    "        words = preprocess(text)\n",
    "        for word in words:\n",
    "            if word not in invertedIndex.keys():\n",
    "                invertedIndex[word] = [(i, words.count(word))]\n",
    "            else:\n",
    "                if invertedIndex[word][-1][0] != i:\n",
    "                    invertedIndex[word].append((i, words.count(word)))\n",
    "    return invertedIndex\n",
    "\n",
    "text1 = \"\"\"\n",
    "Lorem ipsum dolor sit amet, consectetur adipiscing elit. Nullam nec nulla auctor, ultricies nunc nec, ultricies nunc.\n",
    "Sed nec nulla auctor, ultricies nunc nec, ultricies nunc. Nullam nec nulla auctor, ultricies nunc nec, ultricies nunc.\n",
    "\"\"\"\n",
    "\n",
    "text2 = \"\"\"\n",
    "Sed nec nulla auctor, ultricies nunc nec, ultricies nunc. Nullam nec nulla auctor, ultricies nunc nec, ultricies nunc.\n",
    "Lorem ipsum dolor sit amet, consectetur adipiscing elit. Nullam nec nulla auctor, ultricies nunc nec, ultricies nunc.\n",
    "\"\"\"\n",
    "\n",
    "text3 = \"\"\"\n",
    "Nullam nec nulla auctor, ultricies nunc nec, ultricies nunc. Sed nec nulla auctor, ultricies nunc nec, ultricies nunc.\n",
    "Lorem ipsum dolor sit amet, consectetur adipiscing elit. Nullam nec nulla auctor, ultricies nunc nec, ultricies nunc.\n",
    "\"\"\"\n",
    "\n",
    "print(createInvertedIndexWithTF([text1,text2,text3]))\n"
   ]
  }
 ],
 "metadata": {
  "kernelspec": {
   "display_name": "venv",
   "language": "python",
   "name": "python3"
  },
  "language_info": {
   "codemirror_mode": {
    "name": "ipython",
    "version": 3
   },
   "file_extension": ".py",
   "mimetype": "text/x-python",
   "name": "python",
   "nbconvert_exporter": "python",
   "pygments_lexer": "ipython3",
   "version": "3.11.4"
  }
 },
 "nbformat": 4,
 "nbformat_minor": 2
}
